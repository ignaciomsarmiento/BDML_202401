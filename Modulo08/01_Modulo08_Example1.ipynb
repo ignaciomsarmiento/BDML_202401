{
 "cells": [
  {
   "cell_type": "markdown",
   "metadata": {},
   "source": [
    "<div >\n",
    "<img src = \"../banner.jpg\" />\n",
    "</div>"
   ]
  },
  {
   "cell_type": "markdown",
   "metadata": {},
   "source": [
    "<a href=\"https://colab.research.google.com/github/ignaciomsarmiento//BDML_202302/blob/main/Lecture09/Notebook_SS09_OLS_Deep.ipynb\" target=\"_parent\"><img src=\"https://colab.research.google.com/assets/colab-badge.svg\" alt=\"Open In Colab\"/></a>"
   ]
  },
  {
   "cell_type": "markdown",
   "metadata": {},
   "source": [
    "# Intro a Deep Learning"
   ]
  },
  {
   "cell_type": "markdown",
   "metadata": {
    "id": "rR7vgyD8652M"
   },
   "source": [
    "## Llamando las librerías"
   ]
  },
  {
   "cell_type": "code",
   "execution_count": null,
   "metadata": {
    "vscode": {
     "languageId": "r"
    }
   },
   "outputs": [],
   "source": [
    "# install.packages(\"pacman\") #run this line if you use Google Colab"
   ]
  },
  {
   "cell_type": "code",
   "execution_count": null,
   "metadata": {
    "colab": {
     "base_uri": "https://localhost:8080/"
    },
    "id": "SDsCl59z69jP",
    "outputId": "3b14ea5b-c0cb-4189-b377-e9f171e15296",
    "vscode": {
     "languageId": "r"
    }
   },
   "outputs": [],
   "source": [
    "require(\"pacman\")\n",
    "\n",
    "p_load(\"tidyverse\",\"keras\",\"modeldata\")\n",
    "\n",
    "data(\"ames\", package = \"modeldata\")\n",
    "\n",
    "head(ames)"
   ]
  },
  {
   "cell_type": "markdown",
   "metadata": {},
   "source": [
    "### ¿Qué es Keras?\n",
    "\n",
    "Keras es una biblioteca de aprendizaje profundo de código abierto escrita en Python. Keras proporciona una interfaz de alto nivel para construir y entrenar modelos de aprendizaje profundo en una variedad de plataformas. La biblioteca Keras es conocida por ser fácil de usar, modular y extensible. Permite a los usuarios crear modelos de aprendizaje profundo con pocas líneas de código y está diseñada para ser utilizada en combinación con otras bibliotecas populares de Python, como TensorFlow.\n",
    "\n",
    "Keras ofrece una amplia gama de  funciones de pérdida, optimizadores y métricas de evaluación que se pueden utilizar para entrenar y evaluar modelos.\n",
    "\n",
    "En el caso específico de R, la instalación de Keras puede ser  complicada si no se tienen todas las dependencias y configuraciones necesarias en su lugar. Por ejemplo, es necesario tener TensorFlow instalado correctamente antes de poder instalar y utilizar Keras en R. También puede ser necesario instalar otras dependencias adicionales, como el paquete reticulate, que se utiliza para conectar `R` con `Python. Para saber más de cómo instalar keras localmente pueden ir [acá](https://tensorflow.rstudio.com/install/). Por ello mi recomendación es utilizar google Colab."
   ]
  },
  {
   "cell_type": "markdown",
   "metadata": {
    "id": "Cc8kF9kb7bjQ"
   },
   "source": [
    "## Entrenando una red muy simple\n"
   ]
  },
  {
   "cell_type": "code",
   "execution_count": null,
   "metadata": {
    "colab": {
     "base_uri": "https://localhost:8080/",
     "height": 34
    },
    "id": "J0Eb61-67Zd7",
    "outputId": "582ab30a-7117-4919-8f78-6c8a396d67bb",
    "vscode": {
     "languageId": "r"
    }
   },
   "outputs": [],
   "source": [
    "y<-log(ames$Sale_Price) \n",
    "X<- as.matrix(ames  %>% select(Full_Bath,Lot_Area))\n",
    "\n",
    "head(X)"
   ]
  },
  {
   "cell_type": "code",
   "execution_count": null,
   "metadata": {
    "vscode": {
     "languageId": "r"
    }
   },
   "outputs": [],
   "source": [
    "head(y)"
   ]
  },
  {
   "cell_type": "markdown",
   "metadata": {
    "vscode": {
     "languageId": "r"
    }
   },
   "source": [
    "<div >\n",
    " <img src = \"figures/networkexample.png\" />\n",
    "</div>"
   ]
  },
  {
   "cell_type": "code",
   "execution_count": null,
   "metadata": {
    "vscode": {
     "languageId": "r"
    }
   },
   "outputs": [],
   "source": [
    "\n",
    "snn <- keras_model_sequential() %>%\n",
    "  layer_dense(units = 2, activation = \"sigmoid\",\n",
    "              input_shape = ncol(X)) %>%\n",
    "  layer_dense(units = 1)\n"
   ]
  },
  {
   "cell_type": "code",
   "execution_count": null,
   "metadata": {
    "vscode": {
     "languageId": "r"
    }
   },
   "outputs": [],
   "source": [
    "summary(snn)"
   ]
  },
  {
   "cell_type": "code",
   "execution_count": null,
   "metadata": {
    "scrolled": true,
    "vscode": {
     "languageId": "r"
    }
   },
   "outputs": [],
   "source": [
    "snn %>% compile(loss = \"mse\",\n",
    "                  optimizer = 'adam',\n",
    "                  metrics = list(\"mean_squared_error\") # mean_absolute_error\n",
    ")\n",
    "\n",
    "\n",
    "set.seed(10101)\n",
    "history <- snn %>% fit(\n",
    "  X, y, \n",
    "  epochs = 30, \n",
    "  validation_split = 0.3\n",
    ")\n",
    "\n"
   ]
  },
  {
   "cell_type": "code",
   "execution_count": null,
   "metadata": {
    "vscode": {
     "languageId": "r"
    }
   },
   "outputs": [],
   "source": [
    "plot(history)"
   ]
  }
 ],
 "metadata": {
  "accelerator": "TPU",
  "colab": {
   "authorship_tag": "ABX9TyN44b+botaWmeiTQ/7e9hxl",
   "include_colab_link": true,
   "provenance": []
  },
  "gpuClass": "standard",
  "kernelspec": {
   "display_name": "R",
   "language": "R",
   "name": "ir"
  },
  "language_info": {
   "codemirror_mode": "r",
   "file_extension": ".r",
   "mimetype": "text/x-r-source",
   "name": "R",
   "pygments_lexer": "r",
   "version": "4.3.2"
  },
  "toc": {
   "base_numbering": 1,
   "nav_menu": {},
   "number_sections": true,
   "sideBar": true,
   "skip_h1_title": false,
   "title_cell": "Table of Contents",
   "title_sidebar": "Contents",
   "toc_cell": false,
   "toc_position": {},
   "toc_section_display": true,
   "toc_window_display": false
  }
 },
 "nbformat": 4,
 "nbformat_minor": 1
}
