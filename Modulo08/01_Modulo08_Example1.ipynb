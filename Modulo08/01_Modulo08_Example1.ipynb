{
 "cells": [
  {
   "cell_type": "markdown",
   "metadata": {},
   "source": [
    "<div >\n",
    "<img src = \"../banner.jpg\" />\n",
    "</div>"
   ]
  },
  {
   "cell_type": "markdown",
   "metadata": {},
   "source": [
    "<a href=\"https://colab.research.google.com/github/ignaciomsarmiento/BDML_202401/blob/main/Modulo08/01_Modulo08_Example1.ipynb\" target=\"_parent\"><img src=\"https://colab.research.google.com/assets/colab-badge.svg\" alt=\"Open In Colab\"/></a>"
   ]
  },
  {
   "cell_type": "markdown",
   "metadata": {},
   "source": [
    "# Intro a Deep Learning"
   ]
  },
  {
   "cell_type": "markdown",
   "metadata": {
    "id": "rR7vgyD8652M"
   },
   "source": [
    "## Llamando las librerías"
   ]
  },
  {
   "cell_type": "code",
   "execution_count": null,
   "metadata": {
    "vscode": {
     "languageId": "r"
    }
   },
   "outputs": [],
   "source": [
    "# install.packages(\"pacman\") #run this line if you use Google Colab"
   ]
  },
  {
   "cell_type": "code",
   "execution_count": 1,
   "metadata": {
    "colab": {
     "base_uri": "https://localhost:8080/"
    },
    "id": "SDsCl59z69jP",
    "outputId": "3b14ea5b-c0cb-4189-b377-e9f171e15296",
    "vscode": {
     "languageId": "r"
    }
   },
   "outputs": [
    {
     "name": "stderr",
     "output_type": "stream",
     "text": [
      "Loading required package: pacman\n",
      "\n"
     ]
    },
    {
     "data": {
      "text/html": [
       "<table class=\"dataframe\">\n",
       "<caption>A tibble: 6 × 74</caption>\n",
       "<thead>\n",
       "\t<tr><th scope=col>MS_SubClass</th><th scope=col>MS_Zoning</th><th scope=col>Lot_Frontage</th><th scope=col>Lot_Area</th><th scope=col>Street</th><th scope=col>Alley</th><th scope=col>Lot_Shape</th><th scope=col>Land_Contour</th><th scope=col>Utilities</th><th scope=col>Lot_Config</th><th scope=col>⋯</th><th scope=col>Fence</th><th scope=col>Misc_Feature</th><th scope=col>Misc_Val</th><th scope=col>Mo_Sold</th><th scope=col>Year_Sold</th><th scope=col>Sale_Type</th><th scope=col>Sale_Condition</th><th scope=col>Sale_Price</th><th scope=col>Longitude</th><th scope=col>Latitude</th></tr>\n",
       "\t<tr><th scope=col>&lt;fct&gt;</th><th scope=col>&lt;fct&gt;</th><th scope=col>&lt;dbl&gt;</th><th scope=col>&lt;int&gt;</th><th scope=col>&lt;fct&gt;</th><th scope=col>&lt;fct&gt;</th><th scope=col>&lt;fct&gt;</th><th scope=col>&lt;fct&gt;</th><th scope=col>&lt;fct&gt;</th><th scope=col>&lt;fct&gt;</th><th scope=col>⋯</th><th scope=col>&lt;fct&gt;</th><th scope=col>&lt;fct&gt;</th><th scope=col>&lt;int&gt;</th><th scope=col>&lt;int&gt;</th><th scope=col>&lt;int&gt;</th><th scope=col>&lt;fct&gt;</th><th scope=col>&lt;fct&gt;</th><th scope=col>&lt;int&gt;</th><th scope=col>&lt;dbl&gt;</th><th scope=col>&lt;dbl&gt;</th></tr>\n",
       "</thead>\n",
       "<tbody>\n",
       "\t<tr><td>One_Story_1946_and_Newer_All_Styles</td><td>Residential_Low_Density </td><td>141</td><td>31770</td><td>Pave</td><td>No_Alley_Access</td><td>Slightly_Irregular</td><td>Lvl</td><td>AllPub</td><td>Corner</td><td>⋯</td><td>No_Fence       </td><td>None</td><td>    0</td><td>5</td><td>2010</td><td>WD </td><td>Normal</td><td>215000</td><td>-93.61975</td><td>42.05403</td></tr>\n",
       "\t<tr><td>One_Story_1946_and_Newer_All_Styles</td><td>Residential_High_Density</td><td> 80</td><td>11622</td><td>Pave</td><td>No_Alley_Access</td><td>Regular           </td><td>Lvl</td><td>AllPub</td><td>Inside</td><td>⋯</td><td>Minimum_Privacy</td><td>None</td><td>    0</td><td>6</td><td>2010</td><td>WD </td><td>Normal</td><td>105000</td><td>-93.61976</td><td>42.05301</td></tr>\n",
       "\t<tr><td>One_Story_1946_and_Newer_All_Styles</td><td>Residential_Low_Density </td><td> 81</td><td>14267</td><td>Pave</td><td>No_Alley_Access</td><td>Slightly_Irregular</td><td>Lvl</td><td>AllPub</td><td>Corner</td><td>⋯</td><td>No_Fence       </td><td>Gar2</td><td>12500</td><td>6</td><td>2010</td><td>WD </td><td>Normal</td><td>172000</td><td>-93.61939</td><td>42.05266</td></tr>\n",
       "\t<tr><td>One_Story_1946_and_Newer_All_Styles</td><td>Residential_Low_Density </td><td> 93</td><td>11160</td><td>Pave</td><td>No_Alley_Access</td><td>Regular           </td><td>Lvl</td><td>AllPub</td><td>Corner</td><td>⋯</td><td>No_Fence       </td><td>None</td><td>    0</td><td>4</td><td>2010</td><td>WD </td><td>Normal</td><td>244000</td><td>-93.61732</td><td>42.05125</td></tr>\n",
       "\t<tr><td>Two_Story_1946_and_Newer           </td><td>Residential_Low_Density </td><td> 74</td><td>13830</td><td>Pave</td><td>No_Alley_Access</td><td>Slightly_Irregular</td><td>Lvl</td><td>AllPub</td><td>Inside</td><td>⋯</td><td>Minimum_Privacy</td><td>None</td><td>    0</td><td>3</td><td>2010</td><td>WD </td><td>Normal</td><td>189900</td><td>-93.63893</td><td>42.06090</td></tr>\n",
       "\t<tr><td>Two_Story_1946_and_Newer           </td><td>Residential_Low_Density </td><td> 78</td><td> 9978</td><td>Pave</td><td>No_Alley_Access</td><td>Slightly_Irregular</td><td>Lvl</td><td>AllPub</td><td>Inside</td><td>⋯</td><td>No_Fence       </td><td>None</td><td>    0</td><td>6</td><td>2010</td><td>WD </td><td>Normal</td><td>195500</td><td>-93.63893</td><td>42.06078</td></tr>\n",
       "</tbody>\n",
       "</table>\n"
      ],
      "text/latex": [
       "A tibble: 6 × 74\n",
       "\\begin{tabular}{lllllllllllllllllllll}\n",
       " MS\\_SubClass & MS\\_Zoning & Lot\\_Frontage & Lot\\_Area & Street & Alley & Lot\\_Shape & Land\\_Contour & Utilities & Lot\\_Config & ⋯ & Fence & Misc\\_Feature & Misc\\_Val & Mo\\_Sold & Year\\_Sold & Sale\\_Type & Sale\\_Condition & Sale\\_Price & Longitude & Latitude\\\\\n",
       " <fct> & <fct> & <dbl> & <int> & <fct> & <fct> & <fct> & <fct> & <fct> & <fct> & ⋯ & <fct> & <fct> & <int> & <int> & <int> & <fct> & <fct> & <int> & <dbl> & <dbl>\\\\\n",
       "\\hline\n",
       "\t One\\_Story\\_1946\\_and\\_Newer\\_All\\_Styles & Residential\\_Low\\_Density  & 141 & 31770 & Pave & No\\_Alley\\_Access & Slightly\\_Irregular & Lvl & AllPub & Corner & ⋯ & No\\_Fence        & None &     0 & 5 & 2010 & WD  & Normal & 215000 & -93.61975 & 42.05403\\\\\n",
       "\t One\\_Story\\_1946\\_and\\_Newer\\_All\\_Styles & Residential\\_High\\_Density &  80 & 11622 & Pave & No\\_Alley\\_Access & Regular            & Lvl & AllPub & Inside & ⋯ & Minimum\\_Privacy & None &     0 & 6 & 2010 & WD  & Normal & 105000 & -93.61976 & 42.05301\\\\\n",
       "\t One\\_Story\\_1946\\_and\\_Newer\\_All\\_Styles & Residential\\_Low\\_Density  &  81 & 14267 & Pave & No\\_Alley\\_Access & Slightly\\_Irregular & Lvl & AllPub & Corner & ⋯ & No\\_Fence        & Gar2 & 12500 & 6 & 2010 & WD  & Normal & 172000 & -93.61939 & 42.05266\\\\\n",
       "\t One\\_Story\\_1946\\_and\\_Newer\\_All\\_Styles & Residential\\_Low\\_Density  &  93 & 11160 & Pave & No\\_Alley\\_Access & Regular            & Lvl & AllPub & Corner & ⋯ & No\\_Fence        & None &     0 & 4 & 2010 & WD  & Normal & 244000 & -93.61732 & 42.05125\\\\\n",
       "\t Two\\_Story\\_1946\\_and\\_Newer            & Residential\\_Low\\_Density  &  74 & 13830 & Pave & No\\_Alley\\_Access & Slightly\\_Irregular & Lvl & AllPub & Inside & ⋯ & Minimum\\_Privacy & None &     0 & 3 & 2010 & WD  & Normal & 189900 & -93.63893 & 42.06090\\\\\n",
       "\t Two\\_Story\\_1946\\_and\\_Newer            & Residential\\_Low\\_Density  &  78 &  9978 & Pave & No\\_Alley\\_Access & Slightly\\_Irregular & Lvl & AllPub & Inside & ⋯ & No\\_Fence        & None &     0 & 6 & 2010 & WD  & Normal & 195500 & -93.63893 & 42.06078\\\\\n",
       "\\end{tabular}\n"
      ],
      "text/markdown": [
       "\n",
       "A tibble: 6 × 74\n",
       "\n",
       "| MS_SubClass &lt;fct&gt; | MS_Zoning &lt;fct&gt; | Lot_Frontage &lt;dbl&gt; | Lot_Area &lt;int&gt; | Street &lt;fct&gt; | Alley &lt;fct&gt; | Lot_Shape &lt;fct&gt; | Land_Contour &lt;fct&gt; | Utilities &lt;fct&gt; | Lot_Config &lt;fct&gt; | ⋯ ⋯ | Fence &lt;fct&gt; | Misc_Feature &lt;fct&gt; | Misc_Val &lt;int&gt; | Mo_Sold &lt;int&gt; | Year_Sold &lt;int&gt; | Sale_Type &lt;fct&gt; | Sale_Condition &lt;fct&gt; | Sale_Price &lt;int&gt; | Longitude &lt;dbl&gt; | Latitude &lt;dbl&gt; |\n",
       "|---|---|---|---|---|---|---|---|---|---|---|---|---|---|---|---|---|---|---|---|---|\n",
       "| One_Story_1946_and_Newer_All_Styles | Residential_Low_Density  | 141 | 31770 | Pave | No_Alley_Access | Slightly_Irregular | Lvl | AllPub | Corner | ⋯ | No_Fence        | None |     0 | 5 | 2010 | WD  | Normal | 215000 | -93.61975 | 42.05403 |\n",
       "| One_Story_1946_and_Newer_All_Styles | Residential_High_Density |  80 | 11622 | Pave | No_Alley_Access | Regular            | Lvl | AllPub | Inside | ⋯ | Minimum_Privacy | None |     0 | 6 | 2010 | WD  | Normal | 105000 | -93.61976 | 42.05301 |\n",
       "| One_Story_1946_and_Newer_All_Styles | Residential_Low_Density  |  81 | 14267 | Pave | No_Alley_Access | Slightly_Irregular | Lvl | AllPub | Corner | ⋯ | No_Fence        | Gar2 | 12500 | 6 | 2010 | WD  | Normal | 172000 | -93.61939 | 42.05266 |\n",
       "| One_Story_1946_and_Newer_All_Styles | Residential_Low_Density  |  93 | 11160 | Pave | No_Alley_Access | Regular            | Lvl | AllPub | Corner | ⋯ | No_Fence        | None |     0 | 4 | 2010 | WD  | Normal | 244000 | -93.61732 | 42.05125 |\n",
       "| Two_Story_1946_and_Newer            | Residential_Low_Density  |  74 | 13830 | Pave | No_Alley_Access | Slightly_Irregular | Lvl | AllPub | Inside | ⋯ | Minimum_Privacy | None |     0 | 3 | 2010 | WD  | Normal | 189900 | -93.63893 | 42.06090 |\n",
       "| Two_Story_1946_and_Newer            | Residential_Low_Density  |  78 |  9978 | Pave | No_Alley_Access | Slightly_Irregular | Lvl | AllPub | Inside | ⋯ | No_Fence        | None |     0 | 6 | 2010 | WD  | Normal | 195500 | -93.63893 | 42.06078 |\n",
       "\n"
      ],
      "text/plain": [
       "  MS_SubClass                         MS_Zoning                Lot_Frontage\n",
       "1 One_Story_1946_and_Newer_All_Styles Residential_Low_Density  141         \n",
       "2 One_Story_1946_and_Newer_All_Styles Residential_High_Density  80         \n",
       "3 One_Story_1946_and_Newer_All_Styles Residential_Low_Density   81         \n",
       "4 One_Story_1946_and_Newer_All_Styles Residential_Low_Density   93         \n",
       "5 Two_Story_1946_and_Newer            Residential_Low_Density   74         \n",
       "6 Two_Story_1946_and_Newer            Residential_Low_Density   78         \n",
       "  Lot_Area Street Alley           Lot_Shape          Land_Contour Utilities\n",
       "1 31770    Pave   No_Alley_Access Slightly_Irregular Lvl          AllPub   \n",
       "2 11622    Pave   No_Alley_Access Regular            Lvl          AllPub   \n",
       "3 14267    Pave   No_Alley_Access Slightly_Irregular Lvl          AllPub   \n",
       "4 11160    Pave   No_Alley_Access Regular            Lvl          AllPub   \n",
       "5 13830    Pave   No_Alley_Access Slightly_Irregular Lvl          AllPub   \n",
       "6  9978    Pave   No_Alley_Access Slightly_Irregular Lvl          AllPub   \n",
       "  Lot_Config ⋯ Fence           Misc_Feature Misc_Val Mo_Sold Year_Sold\n",
       "1 Corner     ⋯ No_Fence        None             0    5       2010     \n",
       "2 Inside     ⋯ Minimum_Privacy None             0    6       2010     \n",
       "3 Corner     ⋯ No_Fence        Gar2         12500    6       2010     \n",
       "4 Corner     ⋯ No_Fence        None             0    4       2010     \n",
       "5 Inside     ⋯ Minimum_Privacy None             0    3       2010     \n",
       "6 Inside     ⋯ No_Fence        None             0    6       2010     \n",
       "  Sale_Type Sale_Condition Sale_Price Longitude Latitude\n",
       "1 WD        Normal         215000     -93.61975 42.05403\n",
       "2 WD        Normal         105000     -93.61976 42.05301\n",
       "3 WD        Normal         172000     -93.61939 42.05266\n",
       "4 WD        Normal         244000     -93.61732 42.05125\n",
       "5 WD        Normal         189900     -93.63893 42.06090\n",
       "6 WD        Normal         195500     -93.63893 42.06078"
      ]
     },
     "metadata": {},
     "output_type": "display_data"
    }
   ],
   "source": [
    "require(\"pacman\")\n",
    "\n",
    "p_load(\"tidyverse\",\"keras\",\"modeldata\")\n",
    "\n",
    "data(\"ames\", package = \"modeldata\")\n",
    "\n",
    "head(ames)"
   ]
  },
  {
   "cell_type": "markdown",
   "metadata": {},
   "source": [
    "### ¿Qué es Keras?\n",
    "\n",
    "Keras es una biblioteca de aprendizaje profundo de código abierto escrita en Python. Keras proporciona una interfaz de alto nivel para construir y entrenar modelos de aprendizaje profundo en una variedad de plataformas. La biblioteca Keras es conocida por ser fácil de usar, modular y extensible. Permite a los usuarios crear modelos de aprendizaje profundo con pocas líneas de código y está diseñada para ser utilizada en combinación con otras bibliotecas populares de Python, como TensorFlow.\n",
    "\n",
    "Keras ofrece una amplia gama de  funciones de pérdida, optimizadores y métricas de evaluación que se pueden utilizar para entrenar y evaluar modelos.\n",
    "\n",
    "En el caso específico de R, la instalación de Keras puede ser  complicada si no se tienen todas las dependencias y configuraciones necesarias en su lugar. Por ejemplo, es necesario tener TensorFlow instalado correctamente antes de poder instalar y utilizar Keras en R. También puede ser necesario instalar otras dependencias adicionales, como el paquete reticulate, que se utiliza para conectar `R` con `Python. Para saber más de cómo instalar keras localmente pueden ir [acá](https://tensorflow.rstudio.com/install/). Por ello mi recomendación es utilizar google Colab."
   ]
  },
  {
   "cell_type": "markdown",
   "metadata": {
    "id": "Cc8kF9kb7bjQ"
   },
   "source": [
    "## Entrenando una red muy simple\n"
   ]
  },
  {
   "cell_type": "code",
   "execution_count": 2,
   "metadata": {
    "colab": {
     "base_uri": "https://localhost:8080/",
     "height": 34
    },
    "id": "J0Eb61-67Zd7",
    "outputId": "582ab30a-7117-4919-8f78-6c8a396d67bb",
    "vscode": {
     "languageId": "r"
    }
   },
   "outputs": [
    {
     "data": {
      "text/html": [
       "<table class=\"dataframe\">\n",
       "<caption>A matrix: 6 × 2 of type dbl</caption>\n",
       "<thead>\n",
       "\t<tr><th scope=col>Full_Bath</th><th scope=col>Lot_Area</th></tr>\n",
       "</thead>\n",
       "<tbody>\n",
       "\t<tr><td>-1.0246180</td><td> 2.74391236</td></tr>\n",
       "\t<tr><td>-1.0246180</td><td> 0.18706533</td></tr>\n",
       "\t<tr><td>-1.0246180</td><td> 0.52272448</td></tr>\n",
       "\t<tr><td> 0.7838945</td><td> 0.12843602</td></tr>\n",
       "\t<tr><td> 0.7838945</td><td> 0.46726775</td></tr>\n",
       "\t<tr><td> 0.7838945</td><td>-0.02156364</td></tr>\n",
       "</tbody>\n",
       "</table>\n"
      ],
      "text/latex": [
       "A matrix: 6 × 2 of type dbl\n",
       "\\begin{tabular}{ll}\n",
       " Full\\_Bath & Lot\\_Area\\\\\n",
       "\\hline\n",
       "\t -1.0246180 &  2.74391236\\\\\n",
       "\t -1.0246180 &  0.18706533\\\\\n",
       "\t -1.0246180 &  0.52272448\\\\\n",
       "\t  0.7838945 &  0.12843602\\\\\n",
       "\t  0.7838945 &  0.46726775\\\\\n",
       "\t  0.7838945 & -0.02156364\\\\\n",
       "\\end{tabular}\n"
      ],
      "text/markdown": [
       "\n",
       "A matrix: 6 × 2 of type dbl\n",
       "\n",
       "| Full_Bath | Lot_Area |\n",
       "|---|---|\n",
       "| -1.0246180 |  2.74391236 |\n",
       "| -1.0246180 |  0.18706533 |\n",
       "| -1.0246180 |  0.52272448 |\n",
       "|  0.7838945 |  0.12843602 |\n",
       "|  0.7838945 |  0.46726775 |\n",
       "|  0.7838945 | -0.02156364 |\n",
       "\n"
      ],
      "text/plain": [
       "     Full_Bath  Lot_Area   \n",
       "[1,] -1.0246180  2.74391236\n",
       "[2,] -1.0246180  0.18706533\n",
       "[3,] -1.0246180  0.52272448\n",
       "[4,]  0.7838945  0.12843602\n",
       "[5,]  0.7838945  0.46726775\n",
       "[6,]  0.7838945 -0.02156364"
      ]
     },
     "metadata": {},
     "output_type": "display_data"
    }
   ],
   "source": [
    "y<-log(ames$Sale_Price) \n",
    "X<- as.matrix(ames  %>% select(Full_Bath,Lot_Area))\n",
    "X<- scale(X)\n",
    "head(X)"
   ]
  },
  {
   "cell_type": "code",
   "execution_count": 3,
   "metadata": {
    "vscode": {
     "languageId": "r"
    }
   },
   "outputs": [
    {
     "data": {
      "text/html": [
       "<style>\n",
       ".list-inline {list-style: none; margin:0; padding: 0}\n",
       ".list-inline>li {display: inline-block}\n",
       ".list-inline>li:not(:last-child)::after {content: \"\\00b7\"; padding: 0 .5ex}\n",
       "</style>\n",
       "<ol class=list-inline><li>12.2783933071098</li><li>11.5617156291397</li><li>12.0552497557956</li><li>12.4049235042753</li><li>12.1542528968004</li><li>12.1833156584076</li></ol>\n"
      ],
      "text/latex": [
       "\\begin{enumerate*}\n",
       "\\item 12.2783933071098\n",
       "\\item 11.5617156291397\n",
       "\\item 12.0552497557956\n",
       "\\item 12.4049235042753\n",
       "\\item 12.1542528968004\n",
       "\\item 12.1833156584076\n",
       "\\end{enumerate*}\n"
      ],
      "text/markdown": [
       "1. 12.2783933071098\n",
       "2. 11.5617156291397\n",
       "3. 12.0552497557956\n",
       "4. 12.4049235042753\n",
       "5. 12.1542528968004\n",
       "6. 12.1833156584076\n",
       "\n",
       "\n"
      ],
      "text/plain": [
       "[1] 12.27839 11.56172 12.05525 12.40492 12.15425 12.18332"
      ]
     },
     "metadata": {},
     "output_type": "display_data"
    }
   ],
   "source": [
    "head(y)"
   ]
  },
  {
   "cell_type": "markdown",
   "metadata": {
    "vscode": {
     "languageId": "r"
    }
   },
   "source": [
    "<div >\n",
    " <img src = \"figures/networkexample.png\" />\n",
    "</div>"
   ]
  },
  {
   "cell_type": "code",
   "execution_count": 4,
   "metadata": {
    "vscode": {
     "languageId": "r"
    }
   },
   "outputs": [],
   "source": [
    "\n",
    "snn <- keras_model_sequential() %>%\n",
    "  layer_dense(units = 2, activation = \"sigmoid\",\n",
    "              input_shape = ncol(X)) %>%\n",
    "  layer_dense(units = 1)\n"
   ]
  },
  {
   "cell_type": "code",
   "execution_count": null,
   "metadata": {
    "vscode": {
     "languageId": "r"
    }
   },
   "outputs": [],
   "source": [
    "summary(snn)"
   ]
  },
  {
   "cell_type": "code",
   "execution_count": null,
   "metadata": {
    "scrolled": true,
    "vscode": {
     "languageId": "r"
    }
   },
   "outputs": [],
   "source": [
    "snn %>% compile(loss = \"mse\",\n",
    "                  optimizer = 'adam',\n",
    "                  metrics = list(\"mean_squared_error\") # mean_absolute_error\n",
    ")\n",
    "\n",
    "\n",
    "set.seed(10101)\n",
    "history <- snn %>% fit(\n",
    "  X, y, \n",
    "  epochs = 30, \n",
    "  validation_split = 0.3\n",
    ")\n",
    "\n"
   ]
  },
  {
   "cell_type": "code",
   "execution_count": null,
   "metadata": {
    "vscode": {
     "languageId": "r"
    }
   },
   "outputs": [],
   "source": [
    "plot(history)"
   ]
  }
 ],
 "metadata": {
  "accelerator": "TPU",
  "colab": {
   "authorship_tag": "ABX9TyN44b+botaWmeiTQ/7e9hxl",
   "include_colab_link": true,
   "provenance": []
  },
  "gpuClass": "standard",
  "kernelspec": {
   "display_name": "R",
   "language": "R",
   "name": "ir"
  },
  "language_info": {
   "codemirror_mode": "r",
   "file_extension": ".r",
   "mimetype": "text/x-r-source",
   "name": "R",
   "pygments_lexer": "r",
   "version": "4.3.2"
  },
  "toc": {
   "base_numbering": 1,
   "nav_menu": {},
   "number_sections": true,
   "sideBar": true,
   "skip_h1_title": false,
   "title_cell": "Table of Contents",
   "title_sidebar": "Contents",
   "toc_cell": false,
   "toc_position": {},
   "toc_section_display": true,
   "toc_window_display": false
  }
 },
 "nbformat": 4,
 "nbformat_minor": 4
}
