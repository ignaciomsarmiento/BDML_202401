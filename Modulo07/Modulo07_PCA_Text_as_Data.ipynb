{
 "cells": [
  {
   "cell_type": "markdown",
   "id": "d3b7c0aa",
   "metadata": {},
   "source": [
    "<div >\n",
    "<img src = \"../banner.jpg\" />\n",
    "</div>"
   ]
  },
  {
   "cell_type": "markdown",
   "id": "800fabf0",
   "metadata": {},
   "source": [
    "<a target=\"_blank\" href=\"https://colab.research.google.com/github/ignaciomsarmiento/BDML_202401/blob/main/Modulo07/Modulo07_PCA_Text_as_Data.ipynb\">\n",
    "  <img src=\"https://colab.research.google.com/assets/colab-badge.svg\" alt=\"Open In Colab\"/>\n",
    "</a>\n"
   ]
  },
  {
   "cell_type": "markdown",
   "id": "ff638f19",
   "metadata": {},
   "source": [
    "# Ejemplos Principal Component Analysis"
   ]
  },
  {
   "cell_type": "markdown",
   "id": "66131370",
   "metadata": {},
   "source": [
    "## Test Scores"
   ]
  },
  {
   "cell_type": "code",
   "execution_count": 6,
   "id": "04811a19",
   "metadata": {},
   "outputs": [
    {
     "name": "stderr",
     "output_type": "stream",
     "text": [
      "Loading required package: pacman\n",
      "\n"
     ]
    }
   ],
   "source": [
    "require(\"pacman\")\n",
    "p_load(\"tidyverse\")"
   ]
  },
  {
   "cell_type": "code",
   "execution_count": null,
   "id": "bb0d220a",
   "metadata": {},
   "outputs": [],
   "source": [
    "dta<-read.csv(\"https://github.com/ignaciomsarmiento/datasets/raw/main/estudiantes.csv\")\n",
    "dta"
   ]
  },
  {
   "cell_type": "code",
   "execution_count": null,
   "id": "a0002b7b",
   "metadata": {},
   "outputs": [],
   "source": [
    "rownames(dta)<-dta$Estudiante\n",
    "dta<-dta[,-1]\n",
    "dta"
   ]
  },
  {
   "cell_type": "code",
   "execution_count": null,
   "id": "92e58ce3",
   "metadata": {},
   "outputs": [],
   "source": [
    "res_pca <- prcomp(dta)\n",
    "res_pca"
   ]
  },
  {
   "cell_type": "code",
   "execution_count": null,
   "id": "3201135c",
   "metadata": {},
   "outputs": [
    {
     "name": "stderr",
     "output_type": "stream",
     "text": [
      "also installing the dependencies ‘estimability’, ‘ellipse’, ‘emmeans’, ‘flashClust’, ‘multcompView’, ‘scatterplot3d’, ‘dendextend’, ‘FactoMineR’\n",
      "\n",
      "\n"
     ]
    }
   ],
   "source": [
    "p_load(\"factoextra\")\n",
    "eig_val <- get_eigenvalue(res_pca)\n",
    "eig_val"
   ]
  },
  {
   "cell_type": "code",
   "execution_count": null,
   "id": "8b1c8320",
   "metadata": {},
   "outputs": [],
   "source": [
    "fviz_eig(res_pca, addlabels = TRUE, ylim = c(0, 70))"
   ]
  },
  {
   "cell_type": "code",
   "execution_count": null,
   "id": "f85fbecc",
   "metadata": {},
   "outputs": [],
   "source": [
    "ggplot(eig_val,aes(x=1:5,y=cumulative.variance.percent)) +\n",
    "    geom_point()+\n",
    "    geom_line() +\n",
    "    theme_bw()"
   ]
  },
  {
   "cell_type": "code",
   "execution_count": null,
   "id": "bce0270e",
   "metadata": {},
   "outputs": [],
   "source": [
    "fviz_pca_biplot(res_pca, \n",
    "                repel = TRUE,# Avoid text overlapping\n",
    "                col.var = \"#2E9FDF\", # Variables color\n",
    "                col.ind = \"#696969\"  # Individuals color\n",
    "                )"
   ]
  },
  {
   "cell_type": "markdown",
   "id": "d24a228b",
   "metadata": {},
   "source": [
    "##  Votos en el congreso de Estados Unidos\n",
    "\n",
    "Este es un ejemplo un poco mas complejo de como votan los miembros del Congreso de Estados IUnidos. \n",
    "\n",
    "Tenemso información de los votos del 111vo Congreso que cubre los años 2009 y 2010, que son los dos primeros años de la presidencia de Obama.\n",
    "\n",
    "Hay 445 miembors que votan en la casa de representantes (US House of Representatives) y se registraron 1647 vots con -1 por el negativo, +1 por positivo, y 0 por la abstencion o la ausencia"
   ]
  },
  {
   "cell_type": "code",
   "execution_count": null,
   "id": "df0c35b4",
   "metadata": {},
   "outputs": [],
   "source": [
    "votes <- read.csv(\"https://github.com/ignaciomsarmiento/datasets/raw/main/rollcall-votes.csv\")\n",
    "head(votes)"
   ]
  },
  {
   "cell_type": "code",
   "execution_count": null,
   "id": "5144ad32",
   "metadata": {},
   "outputs": [],
   "source": [
    "dim(votes)"
   ]
  },
  {
   "cell_type": "code",
   "execution_count": null,
   "id": "6edd83f3",
   "metadata": {},
   "outputs": [],
   "source": [
    "legis <- read.csv(\"https://github.com/ignaciomsarmiento/datasets/raw/main/rollcall-members.csv\")\n",
    "head(legis)"
   ]
  },
  {
   "cell_type": "markdown",
   "id": "d1924a78",
   "metadata": {},
   "source": [
    "En este contexto podriamos pensar para una estructura factorial subjacente de baja dimensión. Aunque cada uno de los votos se refiere a temas diferentes, los representantes suelen están alineados según ejes partidistas e ideológicos (por ejemplo, republicano versus demócrata o liberal versus conservador). Si creemos que todos los votos son partidistas, entonces el voto por el miembro i en el tema j podría predecirse como\n",
    "\n",
    "$$\n",
    "x_{i} = h f_i\n",
    "$$\n",
    "\n",
    "donde f es el posicionamiento ideologico latente y h como este posicionamiento afecta los votos. Este tipo de situaciones es ideal para PCA"
   ]
  },
  {
   "cell_type": "code",
   "execution_count": null,
   "id": "17646ef0",
   "metadata": {},
   "outputs": [],
   "source": [
    "#Estimamos PCA\n",
    "pcavote <- prcomp(votes, scale=TRUE)\n",
    "\n",
    "pcavote$rotation"
   ]
  },
  {
   "cell_type": "code",
   "execution_count": null,
   "id": "19db44ba",
   "metadata": {},
   "outputs": [],
   "source": [
    "fviz_eig(pcavote, addlabels = TRUE, ylim = c(0, 40))"
   ]
  },
  {
   "cell_type": "code",
   "execution_count": null,
   "id": "c91d76e8",
   "metadata": {},
   "outputs": [],
   "source": [
    "fviz_pca_biplot(pcavote)"
   ]
  },
  {
   "cell_type": "code",
   "execution_count": null,
   "id": "b42db49d",
   "metadata": {},
   "outputs": [],
   "source": [
    "fviz_pca_biplot(pcavote, \n",
    "                col.ind = legis$party,\n",
    "                palette = c(\"blue\", \"green\", \"red\"),\n",
    "                invisible =\"var\",\n",
    "                repel=TRUE,\n",
    "                labelsize = 2\n",
    "                )"
   ]
  },
  {
   "cell_type": "code",
   "execution_count": null,
   "id": "116e5b89",
   "metadata": {},
   "outputs": [],
   "source": [
    "votepc <- predict(pcavote) #\n",
    "votepc[order(votepc[,1])[1:5],1]"
   ]
  },
  {
   "cell_type": "code",
   "execution_count": null,
   "id": "fa57f255",
   "metadata": {},
   "outputs": [],
   "source": [
    "votepc[order(-votepc[,1])[1:5],1]"
   ]
  },
  {
   "cell_type": "code",
   "execution_count": null,
   "id": "1083f60e",
   "metadata": {},
   "outputs": [],
   "source": [
    "votepc[order(votepc[,2])[1:5],2]"
   ]
  },
  {
   "cell_type": "code",
   "execution_count": null,
   "id": "a8b8b20c",
   "metadata": {},
   "outputs": [],
   "source": [
    "votepc[order(-votepc[,2])[1:5],2]"
   ]
  },
  {
   "cell_type": "code",
   "execution_count": null,
   "id": "6698c6a2",
   "metadata": {},
   "outputs": [],
   "source": [
    "loadings <- pcavote$rotation[,1:2]"
   ]
  },
  {
   "cell_type": "code",
   "execution_count": null,
   "id": "9dd3ed3d",
   "metadata": {
    "scrolled": true
   },
   "outputs": [],
   "source": [
    "hist(loadings[,1], main=\"\", xlab=\"1st Principle Component Vote-Loadings\",\n",
    "     col=8, border=grey(.9))\n",
    "abline(v=loadings[884,1], col=2)\n",
    "text(x=loadings[884,1], y=550, \"Afford. Health (amdt.)\", xpd=TRUE, col=2, font=3)\n",
    "abline(v=loadings[25,1], col=4)\n",
    "text(x=loadings[25,1], y=550, \"TARP\", xpd=TRUE, col=4, font=3)"
   ]
  },
  {
   "cell_type": "code",
   "execution_count": null,
   "id": "884dab67",
   "metadata": {},
   "outputs": [],
   "source": [
    "loadings[order(abs(loadings[,2]), decreasing=TRUE)[1:5],2]"
   ]
  },
  {
   "cell_type": "code",
   "execution_count": null,
   "id": "4a8ccf3c",
   "metadata": {},
   "outputs": [],
   "source": [
    "sort(rowSums(votes==0), decreasing=TRUE)[1:5]"
   ]
  },
  {
   "cell_type": "markdown",
   "id": "8192997d",
   "metadata": {},
   "source": [
    "# Principal Component Regression\n",
    "\n",
    "Para ilustrar vamos a usar datos de television que incluyen respuestas a encuestas para grupos focales sobre programas piloto de televisión (primeros episodios de una nueva serie), así como los resultados del primer año de calificaciones (cuántas personas terminaron viendo el programa). La esperanza es que podamos crear una regla para predecir el interés de los espectadores a partir de encuestas piloto, ayudando así a los estudios a tomar mejores decisiones de programación. \n",
    "\n"
   ]
  },
  {
   "cell_type": "code",
   "execution_count": 1,
   "id": "666772ea",
   "metadata": {},
   "outputs": [
    {
     "data": {
      "text/html": [
       "<table class=\"dataframe\">\n",
       "<caption>A data.frame: 6 × 5</caption>\n",
       "<thead>\n",
       "\t<tr><th></th><th scope=col>Network</th><th scope=col>PE</th><th scope=col>GRP</th><th scope=col>Genre</th><th scope=col>Duration</th></tr>\n",
       "\t<tr><th></th><th scope=col>&lt;chr&gt;</th><th scope=col>&lt;dbl&gt;</th><th scope=col>&lt;dbl&gt;</th><th scope=col>&lt;fct&gt;</th><th scope=col>&lt;int&gt;</th></tr>\n",
       "</thead>\n",
       "<tbody>\n",
       "\t<tr><th scope=row>Living with Ed</th><td>HGTV </td><td>54.0000</td><td>151.0</td><td>Reality        </td><td>30</td></tr>\n",
       "\t<tr><th scope=row>Monarch Cove</th><td>LIFE </td><td>64.6479</td><td>375.5</td><td>Drama/Adventure</td><td>60</td></tr>\n",
       "\t<tr><th scope=row>Top Chef</th><td>BRAVO</td><td>78.5980</td><td>808.5</td><td>Reality        </td><td>60</td></tr>\n",
       "\t<tr><th scope=row>Iron Chef America</th><td>FOOD </td><td>62.5703</td><td> 17.3</td><td>Reality        </td><td>30</td></tr>\n",
       "\t<tr><th scope=row>Trading Spaces: All Stars</th><td>TLC  </td><td>56.0000</td><td> 44.1</td><td>Reality        </td><td>60</td></tr>\n",
       "\t<tr><th scope=row>Lisa Williams: Life Among the Dead</th><td>LIFE </td><td>56.2056</td><td>382.6</td><td>Reality        </td><td>60</td></tr>\n",
       "</tbody>\n",
       "</table>\n"
      ],
      "text/latex": [
       "A data.frame: 6 × 5\n",
       "\\begin{tabular}{r|lllll}\n",
       "  & Network & PE & GRP & Genre & Duration\\\\\n",
       "  & <chr> & <dbl> & <dbl> & <fct> & <int>\\\\\n",
       "\\hline\n",
       "\tLiving with Ed & HGTV  & 54.0000 & 151.0 & Reality         & 30\\\\\n",
       "\tMonarch Cove & LIFE  & 64.6479 & 375.5 & Drama/Adventure & 60\\\\\n",
       "\tTop Chef & BRAVO & 78.5980 & 808.5 & Reality         & 60\\\\\n",
       "\tIron Chef America & FOOD  & 62.5703 &  17.3 & Reality         & 30\\\\\n",
       "\tTrading Spaces: All Stars & TLC   & 56.0000 &  44.1 & Reality         & 60\\\\\n",
       "\tLisa Williams: Life Among the Dead & LIFE  & 56.2056 & 382.6 & Reality         & 60\\\\\n",
       "\\end{tabular}\n"
      ],
      "text/markdown": [
       "\n",
       "A data.frame: 6 × 5\n",
       "\n",
       "| <!--/--> | Network &lt;chr&gt; | PE &lt;dbl&gt; | GRP &lt;dbl&gt; | Genre &lt;fct&gt; | Duration &lt;int&gt; |\n",
       "|---|---|---|---|---|---|\n",
       "| Living with Ed | HGTV  | 54.0000 | 151.0 | Reality         | 30 |\n",
       "| Monarch Cove | LIFE  | 64.6479 | 375.5 | Drama/Adventure | 60 |\n",
       "| Top Chef | BRAVO | 78.5980 | 808.5 | Reality         | 60 |\n",
       "| Iron Chef America | FOOD  | 62.5703 |  17.3 | Reality         | 30 |\n",
       "| Trading Spaces: All Stars | TLC   | 56.0000 |  44.1 | Reality         | 60 |\n",
       "| Lisa Williams: Life Among the Dead | LIFE  | 56.2056 | 382.6 | Reality         | 60 |\n",
       "\n"
      ],
      "text/plain": [
       "                                   Network PE      GRP   Genre          \n",
       "Living with Ed                     HGTV    54.0000 151.0 Reality        \n",
       "Monarch Cove                       LIFE    64.6479 375.5 Drama/Adventure\n",
       "Top Chef                           BRAVO   78.5980 808.5 Reality        \n",
       "Iron Chef America                  FOOD    62.5703  17.3 Reality        \n",
       "Trading Spaces: All Stars          TLC     56.0000  44.1 Reality        \n",
       "Lisa Williams: Life Among the Dead LIFE    56.2056 382.6 Reality        \n",
       "                                   Duration\n",
       "Living with Ed                     30      \n",
       "Monarch Cove                       60      \n",
       "Top Chef                           60      \n",
       "Iron Chef America                  30      \n",
       "Trading Spaces: All Stars          60      \n",
       "Lisa Williams: Life Among the Dead 60      "
      ]
     },
     "metadata": {},
     "output_type": "display_data"
    }
   ],
   "source": [
    "shows <- read.csv(\"https://github.com/ignaciomsarmiento/datasets/raw/main/nbc_showdetails.csv\", row.names=1)\n",
    "shows$Genre <- factor(shows$Genre)\n",
    "head(shows)"
   ]
  },
  {
   "cell_type": "markdown",
   "id": "1a605090",
   "metadata": {},
   "source": [
    "Tenemos un par de variables de resultado interesantes . Las medidas clásicas de la comerciabilidad de la radiodifusión son las calificaciones. Específicamente, los puntos de rating bruto (GRP) proporcionan un recuento estimado de la audiencia total. En estos datos también realizamos un seguimiento del compromiso proyectado (PE) como una medida más sutil de la atención de la audiencia. Después de ver un programa, se contacta a los espectadores y se les pregunta sobre el orden y los detalles de los eventos del programa. Esto mide su compromiso con el programa (y, quizás lo más importante, con los anuncios mostrados). La PE se informa en una escala de 0 a 100, donde 100 significa que estaban completamente comprometidos y 0 significa que no prestaron atención en absoluto.\n",
    "\n"
   ]
  },
  {
   "cell_type": "code",
   "execution_count": 2,
   "id": "a7074e79",
   "metadata": {},
   "outputs": [
    {
     "data": {
      "image/png": "[encoded data removed]",
      "text/plain": [
       "plot without title"
      ]
     },
     "metadata": {
      "image/png": {
       "height": 420,
       "width": 420
      }
     },
     "output_type": "display_data"
    }
   ],
   "source": [
    "plot(GRP ~ PE, data=shows, bg=c(4,2,3)[shows$Genre], pch=21, log=\"y\")\n",
    "legend(\"bottomright\", legend=levels(shows$Genre), fill=c(4,2,3), bty=\"n\")"
   ]
  },
  {
   "cell_type": "markdown",
   "id": "fa7c6883",
   "metadata": {},
   "source": [
    "Los datos de la encuesta incluyen 6241 vistas y 20 preguntas para 40 programas. Hay dos tipos de preguntas en la encuesta. Ambos  preguntan hasta qué punto estás de acuerdo con una afirmación. Para el primer trimestre, esta afirmación toma la forma de \"Este programa me hace sentir...\". Para el segundo trimestre, la afirmación es \"Encuentro que este programa me hace sentir...\". \n",
    "\n"
   ]
  },
  {
   "cell_type": "code",
   "execution_count": 3,
   "id": "fd07aa06",
   "metadata": {},
   "outputs": [
    {
     "data": {
      "text/html": [
       "<table class=\"dataframe\">\n",
       "<caption>A data.frame: 6 × 22</caption>\n",
       "<thead>\n",
       "\t<tr><th></th><th scope=col>Viewer</th><th scope=col>Show</th><th scope=col>Q1_Attentive</th><th scope=col>Q1_Excited</th><th scope=col>Q1_Happy</th><th scope=col>Q1_Engaged</th><th scope=col>Q1_Curious</th><th scope=col>Q1_Motivated</th><th scope=col>Q1_Comforted</th><th scope=col>Q1_Annoyed</th><th scope=col>⋯</th><th scope=col>Q2_Funny</th><th scope=col>Q2_Confusing</th><th scope=col>Q2_Predictable</th><th scope=col>Q2_Entertaining</th><th scope=col>Q2_Fantasy</th><th scope=col>Q2_Original</th><th scope=col>Q2_Believable</th><th scope=col>Q2_Boring</th><th scope=col>Q2_Dramatic</th><th scope=col>Q2_Suspenseful</th></tr>\n",
       "\t<tr><th></th><th scope=col>&lt;int&gt;</th><th scope=col>&lt;fct&gt;</th><th scope=col>&lt;int&gt;</th><th scope=col>&lt;int&gt;</th><th scope=col>&lt;int&gt;</th><th scope=col>&lt;int&gt;</th><th scope=col>&lt;int&gt;</th><th scope=col>&lt;int&gt;</th><th scope=col>&lt;int&gt;</th><th scope=col>&lt;int&gt;</th><th scope=col>⋯</th><th scope=col>&lt;int&gt;</th><th scope=col>&lt;int&gt;</th><th scope=col>&lt;int&gt;</th><th scope=col>&lt;int&gt;</th><th scope=col>&lt;int&gt;</th><th scope=col>&lt;int&gt;</th><th scope=col>&lt;int&gt;</th><th scope=col>&lt;int&gt;</th><th scope=col>&lt;int&gt;</th><th scope=col>&lt;int&gt;</th></tr>\n",
       "</thead>\n",
       "<tbody>\n",
       "\t<tr><th scope=row>1</th><td>71</td><td>Iron Chef America        </td><td>3</td><td>4</td><td>4</td><td>3</td><td>5</td><td>4</td><td>3</td><td>2</td><td>⋯</td><td>2</td><td>2</td><td>4</td><td>3</td><td>1</td><td>3</td><td>5</td><td>2</td><td>2</td><td>4</td></tr>\n",
       "\t<tr><th scope=row>2</th><td>71</td><td>Trading Spaces: All Stars</td><td>4</td><td>4</td><td>3</td><td>4</td><td>5</td><td>2</td><td>3</td><td>3</td><td>⋯</td><td>3</td><td>1</td><td>3</td><td>4</td><td>2</td><td>4</td><td>4</td><td>2</td><td>3</td><td>4</td></tr>\n",
       "\t<tr><th scope=row>3</th><td>71</td><td>House Hunters            </td><td>4</td><td>4</td><td>4</td><td>5</td><td>5</td><td>3</td><td>3</td><td>2</td><td>⋯</td><td>4</td><td>2</td><td>3</td><td>5</td><td>4</td><td>5</td><td>2</td><td>1</td><td>4</td><td>4</td></tr>\n",
       "\t<tr><th scope=row>4</th><td>71</td><td>What Not to Wear         </td><td>4</td><td>3</td><td>3</td><td>3</td><td>4</td><td>2</td><td>2</td><td>4</td><td>⋯</td><td>3</td><td>2</td><td>5</td><td>4</td><td>4</td><td>3</td><td>3</td><td>2</td><td>3</td><td>4</td></tr>\n",
       "\t<tr><th scope=row>5</th><td>71</td><td>America's Next Top Model </td><td>4</td><td>4</td><td>3</td><td>4</td><td>4</td><td>4</td><td>3</td><td>3</td><td>⋯</td><td>2</td><td>1</td><td>3</td><td>4</td><td>2</td><td>3</td><td>3</td><td>2</td><td>3</td><td>3</td></tr>\n",
       "\t<tr><th scope=row>6</th><td>73</td><td>Next                     </td><td>2</td><td>4</td><td>2</td><td>4</td><td>2</td><td>3</td><td>3</td><td>3</td><td>⋯</td><td>4</td><td>1</td><td>4</td><td>5</td><td>3</td><td>2</td><td>1</td><td>3</td><td>5</td><td>2</td></tr>\n",
       "</tbody>\n",
       "</table>\n"
      ],
      "text/latex": [
       "A data.frame: 6 × 22\n",
       "\\begin{tabular}{r|lllllllllllllllllllll}\n",
       "  & Viewer & Show & Q1\\_Attentive & Q1\\_Excited & Q1\\_Happy & Q1\\_Engaged & Q1\\_Curious & Q1\\_Motivated & Q1\\_Comforted & Q1\\_Annoyed & ⋯ & Q2\\_Funny & Q2\\_Confusing & Q2\\_Predictable & Q2\\_Entertaining & Q2\\_Fantasy & Q2\\_Original & Q2\\_Believable & Q2\\_Boring & Q2\\_Dramatic & Q2\\_Suspenseful\\\\\n",
       "  & <int> & <fct> & <int> & <int> & <int> & <int> & <int> & <int> & <int> & <int> & ⋯ & <int> & <int> & <int> & <int> & <int> & <int> & <int> & <int> & <int> & <int>\\\\\n",
       "\\hline\n",
       "\t1 & 71 & Iron Chef America         & 3 & 4 & 4 & 3 & 5 & 4 & 3 & 2 & ⋯ & 2 & 2 & 4 & 3 & 1 & 3 & 5 & 2 & 2 & 4\\\\\n",
       "\t2 & 71 & Trading Spaces: All Stars & 4 & 4 & 3 & 4 & 5 & 2 & 3 & 3 & ⋯ & 3 & 1 & 3 & 4 & 2 & 4 & 4 & 2 & 3 & 4\\\\\n",
       "\t3 & 71 & House Hunters             & 4 & 4 & 4 & 5 & 5 & 3 & 3 & 2 & ⋯ & 4 & 2 & 3 & 5 & 4 & 5 & 2 & 1 & 4 & 4\\\\\n",
       "\t4 & 71 & What Not to Wear          & 4 & 3 & 3 & 3 & 4 & 2 & 2 & 4 & ⋯ & 3 & 2 & 5 & 4 & 4 & 3 & 3 & 2 & 3 & 4\\\\\n",
       "\t5 & 71 & America's Next Top Model  & 4 & 4 & 3 & 4 & 4 & 4 & 3 & 3 & ⋯ & 2 & 1 & 3 & 4 & 2 & 3 & 3 & 2 & 3 & 3\\\\\n",
       "\t6 & 73 & Next                      & 2 & 4 & 2 & 4 & 2 & 3 & 3 & 3 & ⋯ & 4 & 1 & 4 & 5 & 3 & 2 & 1 & 3 & 5 & 2\\\\\n",
       "\\end{tabular}\n"
      ],
      "text/markdown": [
       "\n",
       "A data.frame: 6 × 22\n",
       "\n",
       "| <!--/--> | Viewer &lt;int&gt; | Show &lt;fct&gt; | Q1_Attentive &lt;int&gt; | Q1_Excited &lt;int&gt; | Q1_Happy &lt;int&gt; | Q1_Engaged &lt;int&gt; | Q1_Curious &lt;int&gt; | Q1_Motivated &lt;int&gt; | Q1_Comforted &lt;int&gt; | Q1_Annoyed &lt;int&gt; | ⋯ ⋯ | Q2_Funny &lt;int&gt; | Q2_Confusing &lt;int&gt; | Q2_Predictable &lt;int&gt; | Q2_Entertaining &lt;int&gt; | Q2_Fantasy &lt;int&gt; | Q2_Original &lt;int&gt; | Q2_Believable &lt;int&gt; | Q2_Boring &lt;int&gt; | Q2_Dramatic &lt;int&gt; | Q2_Suspenseful &lt;int&gt; |\n",
       "|---|---|---|---|---|---|---|---|---|---|---|---|---|---|---|---|---|---|---|---|---|---|\n",
       "| 1 | 71 | Iron Chef America         | 3 | 4 | 4 | 3 | 5 | 4 | 3 | 2 | ⋯ | 2 | 2 | 4 | 3 | 1 | 3 | 5 | 2 | 2 | 4 |\n",
       "| 2 | 71 | Trading Spaces: All Stars | 4 | 4 | 3 | 4 | 5 | 2 | 3 | 3 | ⋯ | 3 | 1 | 3 | 4 | 2 | 4 | 4 | 2 | 3 | 4 |\n",
       "| 3 | 71 | House Hunters             | 4 | 4 | 4 | 5 | 5 | 3 | 3 | 2 | ⋯ | 4 | 2 | 3 | 5 | 4 | 5 | 2 | 1 | 4 | 4 |\n",
       "| 4 | 71 | What Not to Wear          | 4 | 3 | 3 | 3 | 4 | 2 | 2 | 4 | ⋯ | 3 | 2 | 5 | 4 | 4 | 3 | 3 | 2 | 3 | 4 |\n",
       "| 5 | 71 | America's Next Top Model  | 4 | 4 | 3 | 4 | 4 | 4 | 3 | 3 | ⋯ | 2 | 1 | 3 | 4 | 2 | 3 | 3 | 2 | 3 | 3 |\n",
       "| 6 | 73 | Next                      | 2 | 4 | 2 | 4 | 2 | 3 | 3 | 3 | ⋯ | 4 | 1 | 4 | 5 | 3 | 2 | 1 | 3 | 5 | 2 |\n",
       "\n"
      ],
      "text/plain": [
       "  Viewer Show                      Q1_Attentive Q1_Excited Q1_Happy Q1_Engaged\n",
       "1 71     Iron Chef America         3            4          4        3         \n",
       "2 71     Trading Spaces: All Stars 4            4          3        4         \n",
       "3 71     House Hunters             4            4          4        5         \n",
       "4 71     What Not to Wear          4            3          3        3         \n",
       "5 71     America's Next Top Model  4            4          3        4         \n",
       "6 73     Next                      2            4          2        4         \n",
       "  Q1_Curious Q1_Motivated Q1_Comforted Q1_Annoyed ⋯ Q2_Funny Q2_Confusing\n",
       "1 5          4            3            2          ⋯ 2        2           \n",
       "2 5          2            3            3          ⋯ 3        1           \n",
       "3 5          3            3            2          ⋯ 4        2           \n",
       "4 4          2            2            4          ⋯ 3        2           \n",
       "5 4          4            3            3          ⋯ 2        1           \n",
       "6 2          3            3            3          ⋯ 4        1           \n",
       "  Q2_Predictable Q2_Entertaining Q2_Fantasy Q2_Original Q2_Believable Q2_Boring\n",
       "1 4              3               1          3           5             2        \n",
       "2 3              4               2          4           4             2        \n",
       "3 3              5               4          5           2             1        \n",
       "4 5              4               4          3           3             2        \n",
       "5 3              4               2          3           3             2        \n",
       "6 4              5               3          2           1             3        \n",
       "  Q2_Dramatic Q2_Suspenseful\n",
       "1 2           4             \n",
       "2 3           4             \n",
       "3 4           4             \n",
       "4 3           4             \n",
       "5 3           3             \n",
       "6 5           2             "
      ]
     },
     "metadata": {},
     "output_type": "display_data"
    }
   ],
   "source": [
    "survey <- read.csv(\"https://github.com/ignaciomsarmiento/datasets/raw/main/nbc_pilotsurvey.csv\", as.is=TRUE) \n",
    "survey$Show <- factor(survey$Show, levels=rownames(shows))\n",
    "head(survey)"
   ]
  },
  {
   "cell_type": "code",
   "execution_count": 4,
   "id": "feb98dcc",
   "metadata": {},
   "outputs": [
    {
     "data": {
      "text/html": [
       "<table class=\"dataframe\">\n",
       "<caption>A data.frame: 6 × 20</caption>\n",
       "<thead>\n",
       "\t<tr><th></th><th scope=col>Q1_Attentive</th><th scope=col>Q1_Excited</th><th scope=col>Q1_Happy</th><th scope=col>Q1_Engaged</th><th scope=col>Q1_Curious</th><th scope=col>Q1_Motivated</th><th scope=col>Q1_Comforted</th><th scope=col>Q1_Annoyed</th><th scope=col>Q1_Indifferent</th><th scope=col>Q2_Relatable</th><th scope=col>Q2_Funny</th><th scope=col>Q2_Confusing</th><th scope=col>Q2_Predictable</th><th scope=col>Q2_Entertaining</th><th scope=col>Q2_Fantasy</th><th scope=col>Q2_Original</th><th scope=col>Q2_Believable</th><th scope=col>Q2_Boring</th><th scope=col>Q2_Dramatic</th><th scope=col>Q2_Suspenseful</th></tr>\n",
       "\t<tr><th></th><th scope=col>&lt;dbl&gt;</th><th scope=col>&lt;dbl&gt;</th><th scope=col>&lt;dbl&gt;</th><th scope=col>&lt;dbl&gt;</th><th scope=col>&lt;dbl&gt;</th><th scope=col>&lt;dbl&gt;</th><th scope=col>&lt;dbl&gt;</th><th scope=col>&lt;dbl&gt;</th><th scope=col>&lt;dbl&gt;</th><th scope=col>&lt;dbl&gt;</th><th scope=col>&lt;dbl&gt;</th><th scope=col>&lt;dbl&gt;</th><th scope=col>&lt;dbl&gt;</th><th scope=col>&lt;dbl&gt;</th><th scope=col>&lt;dbl&gt;</th><th scope=col>&lt;dbl&gt;</th><th scope=col>&lt;dbl&gt;</th><th scope=col>&lt;dbl&gt;</th><th scope=col>&lt;dbl&gt;</th><th scope=col>&lt;dbl&gt;</th></tr>\n",
       "</thead>\n",
       "<tbody>\n",
       "\t<tr><th scope=row>Living with Ed</th><td>3.890244</td><td>3.780488</td><td>3.926829</td><td>3.865854</td><td>3.804878</td><td>3.609756</td><td>3.573171</td><td>2.609756</td><td>3.121951</td><td>3.719512</td><td>3.926829</td><td>2.560976</td><td>3.402439</td><td>4.134146</td><td>3.353659</td><td>3.914634</td><td>3.878049</td><td>2.621951</td><td>3.512195</td><td>3.500000</td></tr>\n",
       "\t<tr><th scope=row>Monarch Cove</th><td>4.046154</td><td>3.861538</td><td>3.830769</td><td>3.876923</td><td>4.000000</td><td>3.938462</td><td>3.907692</td><td>2.969231</td><td>3.153846</td><td>3.984615</td><td>3.784615</td><td>2.769231</td><td>3.461538</td><td>4.107692</td><td>3.338462</td><td>4.153846</td><td>3.876923</td><td>2.553846</td><td>4.015385</td><td>3.707692</td></tr>\n",
       "\t<tr><th scope=row>Top Chef</th><td>3.845745</td><td>3.595745</td><td>3.632979</td><td>3.771277</td><td>3.856383</td><td>3.196809</td><td>3.000000</td><td>2.191489</td><td>2.398936</td><td>3.218085</td><td>3.569149</td><td>1.840426</td><td>2.851064</td><td>4.297872</td><td>2.489362</td><td>3.845745</td><td>3.547872</td><td>1.829787</td><td>3.606383</td><td>3.180851</td></tr>\n",
       "\t<tr><th scope=row>Iron Chef America</th><td>3.910053</td><td>3.693122</td><td>3.613757</td><td>3.851852</td><td>3.936508</td><td>3.333333</td><td>3.047619</td><td>2.116402</td><td>2.439153</td><td>3.132275</td><td>3.539683</td><td>1.947090</td><td>2.878307</td><td>4.227513</td><td>2.513228</td><td>3.777778</td><td>3.687831</td><td>1.915344</td><td>3.560847</td><td>3.269841</td></tr>\n",
       "\t<tr><th scope=row>Trading Spaces: All Stars</th><td>3.807487</td><td>3.540107</td><td>3.513369</td><td>3.780749</td><td>3.909091</td><td>3.294118</td><td>2.802139</td><td>2.101604</td><td>2.427807</td><td>3.229947</td><td>3.481283</td><td>1.871658</td><td>2.754011</td><td>4.149733</td><td>2.304813</td><td>3.839572</td><td>3.780749</td><td>1.855615</td><td>3.310160</td><td>3.016043</td></tr>\n",
       "\t<tr><th scope=row>Lisa Williams: Life Among the Dead</th><td>3.716216</td><td>3.648649</td><td>3.554054</td><td>3.662162</td><td>3.756757</td><td>3.567568</td><td>3.378378</td><td>2.202703</td><td>2.581081</td><td>3.472973</td><td>3.378378</td><td>2.216216</td><td>2.770270</td><td>4.000000</td><td>3.013514</td><td>3.878378</td><td>3.797297</td><td>1.905405</td><td>3.756757</td><td>3.527027</td></tr>\n",
       "</tbody>\n",
       "</table>\n"
      ],
      "text/latex": [
       "A data.frame: 6 × 20\n",
       "\\begin{tabular}{r|llllllllllllllllllll}\n",
       "  & Q1\\_Attentive & Q1\\_Excited & Q1\\_Happy & Q1\\_Engaged & Q1\\_Curious & Q1\\_Motivated & Q1\\_Comforted & Q1\\_Annoyed & Q1\\_Indifferent & Q2\\_Relatable & Q2\\_Funny & Q2\\_Confusing & Q2\\_Predictable & Q2\\_Entertaining & Q2\\_Fantasy & Q2\\_Original & Q2\\_Believable & Q2\\_Boring & Q2\\_Dramatic & Q2\\_Suspenseful\\\\\n",
       "  & <dbl> & <dbl> & <dbl> & <dbl> & <dbl> & <dbl> & <dbl> & <dbl> & <dbl> & <dbl> & <dbl> & <dbl> & <dbl> & <dbl> & <dbl> & <dbl> & <dbl> & <dbl> & <dbl> & <dbl>\\\\\n",
       "\\hline\n",
       "\tLiving with Ed & 3.890244 & 3.780488 & 3.926829 & 3.865854 & 3.804878 & 3.609756 & 3.573171 & 2.609756 & 3.121951 & 3.719512 & 3.926829 & 2.560976 & 3.402439 & 4.134146 & 3.353659 & 3.914634 & 3.878049 & 2.621951 & 3.512195 & 3.500000\\\\\n",
       "\tMonarch Cove & 4.046154 & 3.861538 & 3.830769 & 3.876923 & 4.000000 & 3.938462 & 3.907692 & 2.969231 & 3.153846 & 3.984615 & 3.784615 & 2.769231 & 3.461538 & 4.107692 & 3.338462 & 4.153846 & 3.876923 & 2.553846 & 4.015385 & 3.707692\\\\\n",
       "\tTop Chef & 3.845745 & 3.595745 & 3.632979 & 3.771277 & 3.856383 & 3.196809 & 3.000000 & 2.191489 & 2.398936 & 3.218085 & 3.569149 & 1.840426 & 2.851064 & 4.297872 & 2.489362 & 3.845745 & 3.547872 & 1.829787 & 3.606383 & 3.180851\\\\\n",
       "\tIron Chef America & 3.910053 & 3.693122 & 3.613757 & 3.851852 & 3.936508 & 3.333333 & 3.047619 & 2.116402 & 2.439153 & 3.132275 & 3.539683 & 1.947090 & 2.878307 & 4.227513 & 2.513228 & 3.777778 & 3.687831 & 1.915344 & 3.560847 & 3.269841\\\\\n",
       "\tTrading Spaces: All Stars & 3.807487 & 3.540107 & 3.513369 & 3.780749 & 3.909091 & 3.294118 & 2.802139 & 2.101604 & 2.427807 & 3.229947 & 3.481283 & 1.871658 & 2.754011 & 4.149733 & 2.304813 & 3.839572 & 3.780749 & 1.855615 & 3.310160 & 3.016043\\\\\n",
       "\tLisa Williams: Life Among the Dead & 3.716216 & 3.648649 & 3.554054 & 3.662162 & 3.756757 & 3.567568 & 3.378378 & 2.202703 & 2.581081 & 3.472973 & 3.378378 & 2.216216 & 2.770270 & 4.000000 & 3.013514 & 3.878378 & 3.797297 & 1.905405 & 3.756757 & 3.527027\\\\\n",
       "\\end{tabular}\n"
      ],
      "text/markdown": [
       "\n",
       "A data.frame: 6 × 20\n",
       "\n",
       "| <!--/--> | Q1_Attentive &lt;dbl&gt; | Q1_Excited &lt;dbl&gt; | Q1_Happy &lt;dbl&gt; | Q1_Engaged &lt;dbl&gt; | Q1_Curious &lt;dbl&gt; | Q1_Motivated &lt;dbl&gt; | Q1_Comforted &lt;dbl&gt; | Q1_Annoyed &lt;dbl&gt; | Q1_Indifferent &lt;dbl&gt; | Q2_Relatable &lt;dbl&gt; | Q2_Funny &lt;dbl&gt; | Q2_Confusing &lt;dbl&gt; | Q2_Predictable &lt;dbl&gt; | Q2_Entertaining &lt;dbl&gt; | Q2_Fantasy &lt;dbl&gt; | Q2_Original &lt;dbl&gt; | Q2_Believable &lt;dbl&gt; | Q2_Boring &lt;dbl&gt; | Q2_Dramatic &lt;dbl&gt; | Q2_Suspenseful &lt;dbl&gt; |\n",
       "|---|---|---|---|---|---|---|---|---|---|---|---|---|---|---|---|---|---|---|---|---|\n",
       "| Living with Ed | 3.890244 | 3.780488 | 3.926829 | 3.865854 | 3.804878 | 3.609756 | 3.573171 | 2.609756 | 3.121951 | 3.719512 | 3.926829 | 2.560976 | 3.402439 | 4.134146 | 3.353659 | 3.914634 | 3.878049 | 2.621951 | 3.512195 | 3.500000 |\n",
       "| Monarch Cove | 4.046154 | 3.861538 | 3.830769 | 3.876923 | 4.000000 | 3.938462 | 3.907692 | 2.969231 | 3.153846 | 3.984615 | 3.784615 | 2.769231 | 3.461538 | 4.107692 | 3.338462 | 4.153846 | 3.876923 | 2.553846 | 4.015385 | 3.707692 |\n",
       "| Top Chef | 3.845745 | 3.595745 | 3.632979 | 3.771277 | 3.856383 | 3.196809 | 3.000000 | 2.191489 | 2.398936 | 3.218085 | 3.569149 | 1.840426 | 2.851064 | 4.297872 | 2.489362 | 3.845745 | 3.547872 | 1.829787 | 3.606383 | 3.180851 |\n",
       "| Iron Chef America | 3.910053 | 3.693122 | 3.613757 | 3.851852 | 3.936508 | 3.333333 | 3.047619 | 2.116402 | 2.439153 | 3.132275 | 3.539683 | 1.947090 | 2.878307 | 4.227513 | 2.513228 | 3.777778 | 3.687831 | 1.915344 | 3.560847 | 3.269841 |\n",
       "| Trading Spaces: All Stars | 3.807487 | 3.540107 | 3.513369 | 3.780749 | 3.909091 | 3.294118 | 2.802139 | 2.101604 | 2.427807 | 3.229947 | 3.481283 | 1.871658 | 2.754011 | 4.149733 | 2.304813 | 3.839572 | 3.780749 | 1.855615 | 3.310160 | 3.016043 |\n",
       "| Lisa Williams: Life Among the Dead | 3.716216 | 3.648649 | 3.554054 | 3.662162 | 3.756757 | 3.567568 | 3.378378 | 2.202703 | 2.581081 | 3.472973 | 3.378378 | 2.216216 | 2.770270 | 4.000000 | 3.013514 | 3.878378 | 3.797297 | 1.905405 | 3.756757 | 3.527027 |\n",
       "\n"
      ],
      "text/plain": [
       "                                   Q1_Attentive Q1_Excited Q1_Happy Q1_Engaged\n",
       "Living with Ed                     3.890244     3.780488   3.926829 3.865854  \n",
       "Monarch Cove                       4.046154     3.861538   3.830769 3.876923  \n",
       "Top Chef                           3.845745     3.595745   3.632979 3.771277  \n",
       "Iron Chef America                  3.910053     3.693122   3.613757 3.851852  \n",
       "Trading Spaces: All Stars          3.807487     3.540107   3.513369 3.780749  \n",
       "Lisa Williams: Life Among the Dead 3.716216     3.648649   3.554054 3.662162  \n",
       "                                   Q1_Curious Q1_Motivated Q1_Comforted\n",
       "Living with Ed                     3.804878   3.609756     3.573171    \n",
       "Monarch Cove                       4.000000   3.938462     3.907692    \n",
       "Top Chef                           3.856383   3.196809     3.000000    \n",
       "Iron Chef America                  3.936508   3.333333     3.047619    \n",
       "Trading Spaces: All Stars          3.909091   3.294118     2.802139    \n",
       "Lisa Williams: Life Among the Dead 3.756757   3.567568     3.378378    \n",
       "                                   Q1_Annoyed Q1_Indifferent Q2_Relatable\n",
       "Living with Ed                     2.609756   3.121951       3.719512    \n",
       "Monarch Cove                       2.969231   3.153846       3.984615    \n",
       "Top Chef                           2.191489   2.398936       3.218085    \n",
       "Iron Chef America                  2.116402   2.439153       3.132275    \n",
       "Trading Spaces: All Stars          2.101604   2.427807       3.229947    \n",
       "Lisa Williams: Life Among the Dead 2.202703   2.581081       3.472973    \n",
       "                                   Q2_Funny Q2_Confusing Q2_Predictable\n",
       "Living with Ed                     3.926829 2.560976     3.402439      \n",
       "Monarch Cove                       3.784615 2.769231     3.461538      \n",
       "Top Chef                           3.569149 1.840426     2.851064      \n",
       "Iron Chef America                  3.539683 1.947090     2.878307      \n",
       "Trading Spaces: All Stars          3.481283 1.871658     2.754011      \n",
       "Lisa Williams: Life Among the Dead 3.378378 2.216216     2.770270      \n",
       "                                   Q2_Entertaining Q2_Fantasy Q2_Original\n",
       "Living with Ed                     4.134146        3.353659   3.914634   \n",
       "Monarch Cove                       4.107692        3.338462   4.153846   \n",
       "Top Chef                           4.297872        2.489362   3.845745   \n",
       "Iron Chef America                  4.227513        2.513228   3.777778   \n",
       "Trading Spaces: All Stars          4.149733        2.304813   3.839572   \n",
       "Lisa Williams: Life Among the Dead 4.000000        3.013514   3.878378   \n",
       "                                   Q2_Believable Q2_Boring Q2_Dramatic\n",
       "Living with Ed                     3.878049      2.621951  3.512195   \n",
       "Monarch Cove                       3.876923      2.553846  4.015385   \n",
       "Top Chef                           3.547872      1.829787  3.606383   \n",
       "Iron Chef America                  3.687831      1.915344  3.560847   \n",
       "Trading Spaces: All Stars          3.780749      1.855615  3.310160   \n",
       "Lisa Williams: Life Among the Dead 3.797297      1.905405  3.756757   \n",
       "                                   Q2_Suspenseful\n",
       "Living with Ed                     3.500000      \n",
       "Monarch Cove                       3.707692      \n",
       "Top Chef                           3.180851      \n",
       "Iron Chef America                  3.269841      \n",
       "Trading Spaces: All Stars          3.016043      \n",
       "Lisa Williams: Life Among the Dead 3.527027      "
      ]
     },
     "metadata": {},
     "output_type": "display_data"
    }
   ],
   "source": [
    "Xpilot <- aggregate(survey[,-(1:2)],  ## -(1:2) to remove the variables 'show' and 'viewer' completely\n",
    "                by=list(Show=survey$Show), mean)\n",
    "\n",
    "\n",
    "rownames(Xpilot) <- Xpilot[,1]\n",
    "Xpilot <- Xpilot[,-1]\n",
    "head(Xpilot)"
   ]
  },
  {
   "cell_type": "code",
   "execution_count": 5,
   "id": "9fb9b413",
   "metadata": {},
   "outputs": [
    {
     "ename": "ERROR",
     "evalue": "Error in fviz_eig(PCApilot, addlabels = TRUE, ylim = c(0, 45)): could not find function \"fviz_eig\"\n",
     "output_type": "error",
     "traceback": [
      "Error in fviz_eig(PCApilot, addlabels = TRUE, ylim = c(0, 45)): could not find function \"fviz_eig\"\nTraceback:\n"
     ]
    }
   ],
   "source": [
    "PCApilot <- prcomp(Xpilot, scale=TRUE)\n",
    "\n",
    "fviz_eig(PCApilot, addlabels = TRUE, ylim = c(0, 45))"
   ]
  },
  {
   "cell_type": "code",
   "execution_count": null,
   "id": "5cb04573",
   "metadata": {},
   "outputs": [],
   "source": [
    "round(PCApilot$rotation[,1:3],1)"
   ]
  },
  {
   "cell_type": "code",
   "execution_count": null,
   "id": "21d9d500",
   "metadata": {},
   "outputs": [],
   "source": [
    "fviz_pca_biplot(PCApilot, \n",
    "                col.ind = shows$Genre,\n",
    "                palette = c(\"blue\", \"green\", \"red\"),\n",
    "                ylim=c(-3,3),\n",
    "                xlim=c(-6,6), # hides \"monarch cove\",living with ed\", and \"next\" but these are all tiny \n",
    "                invisible =\"var\",\n",
    "                repel=TRUE,\n",
    "                labelsize = 2\n",
    "                )"
   ]
  },
  {
   "cell_type": "code",
   "execution_count": null,
   "id": "6bb9190e",
   "metadata": {},
   "outputs": [],
   "source": [
    "p_load(\"gamlr\")"
   ]
  },
  {
   "cell_type": "code",
   "execution_count": null,
   "id": "8906a770",
   "metadata": {},
   "outputs": [],
   "source": [
    "zpilot <- predict(PCApilot)\n",
    "\n",
    "PE <- shows$PE\n",
    "zdf <- as.data.frame(zpilot)\n",
    "\n",
    "summary(PEglm <- glm(PE ~ ., data=zdf[,1:2]))"
   ]
  },
  {
   "cell_type": "code",
   "execution_count": null,
   "id": "a73cb0d3",
   "metadata": {},
   "outputs": [],
   "source": [
    "cvlasso <- cv.gamlr(x=as.matrix(Xpilot), y=PE, nfold=10)\n",
    "coef(cvlasso) "
   ]
  },
  {
   "cell_type": "code",
   "execution_count": null,
   "id": "c6d1a3d5",
   "metadata": {},
   "outputs": [],
   "source": [
    "cvlassoPCR <- cv.gamlr(x=zpilot, y=PE, nfold=10) \n",
    "coef(cvlassoPCR) "
   ]
  },
  {
   "cell_type": "code",
   "execution_count": null,
   "id": "e52d51c4",
   "metadata": {},
   "outputs": [],
   "source": [
    "cvlassoboth <- cv.gamlr(x=as.matrix(cbind(Xpilot,zpilot)), y=PE, nfold=10)\n",
    "coef(cvlassoboth)"
   ]
  },
  {
   "cell_type": "code",
   "execution_count": null,
   "id": "38f8cfb4",
   "metadata": {},
   "outputs": [],
   "source": [
    "par(mfrow=c(1,3), mai=c(.2,.2,.5,.1), omi=c(.5,.5,0,0))\n",
    "plot(cvlasso, main=\"Lasso on X\", ylim=c(50,200), ylab=\"\", xlab=\"\", df=FALSE, bty=\"n\")\n",
    "plot(cvlassoPCR, main=\"Lasso on PCR\", ylim=c(50,200), ylab=\"\", xlab=\"\", df=FALSE, bty=\"n\")\n",
    "plot(cvlassoboth, main=\"Lasso on X and PCR\", ylim=c(50,200), ylab=\"\", xlab=\"\", df=FALSE, bty=\"n\")\n",
    "mtext(side=2, \"mean squared error\", outer=TRUE, line=2)\n",
    "mtext(side=1, \"log lamba\", outer=TRUE, line=2)"
   ]
  },
  {
   "cell_type": "markdown",
   "id": "dc30206a",
   "metadata": {},
   "source": [
    "# Texto como Datos: Ejemplos\n",
    "\n",
    "## Regresión con Texto: Gentzkow and Shapiro"
   ]
  },
  {
   "cell_type": "markdown",
   "id": "16e0ba67",
   "metadata": {},
   "source": [
    "<div >\n",
    "<img src = \"figures/gentzgow_shapiro.png\" />\n",
    "</div>"
   ]
  },
  {
   "cell_type": "code",
   "execution_count": null,
   "id": "73f77bab",
   "metadata": {},
   "outputs": [],
   "source": [
    "require(\"pacman\")\n",
    "p_load(\"tidyverse\",\"textir\")"
   ]
  },
  {
   "cell_type": "code",
   "execution_count": null,
   "id": "cc54ff13",
   "metadata": {},
   "outputs": [],
   "source": [
    "data(\"congress109\", package = \"textir\")"
   ]
  },
  {
   "cell_type": "code",
   "execution_count": null,
   "id": "6c88345d",
   "metadata": {},
   "outputs": [],
   "source": [
    "congress109Counts[c(\"Barack Obama\",\"John Boehner\"),995:998]"
   ]
  },
  {
   "cell_type": "code",
   "execution_count": null,
   "id": "a06cc21d",
   "metadata": {},
   "outputs": [],
   "source": [
    "congress109Ideology[c(\"Barack Obama\",\"John Boehner\"),1:5]"
   ]
  },
  {
   "cell_type": "markdown",
   "id": "2f381c1e",
   "metadata": {},
   "source": [
    "### Regresión \n",
    "\n",
    "$$\n",
    "RepShare= X\\beta  + u\n",
    "$$"
   ]
  },
  {
   "cell_type": "code",
   "execution_count": null,
   "id": "35b7f73b",
   "metadata": {},
   "outputs": [],
   "source": [
    "dim(congress109Counts)"
   ]
  },
  {
   "cell_type": "code",
   "execution_count": null,
   "id": "8e8d0aa2",
   "metadata": {},
   "outputs": [],
   "source": [
    "X <- as(congress109Counts, \"dMatrix\")\n",
    "repshare <- congress109Ideology$repshare"
   ]
  },
  {
   "cell_type": "code",
   "execution_count": null,
   "id": "512d521c",
   "metadata": {},
   "outputs": [],
   "source": [
    "\n",
    "X1 <- as.matrix(congress109Counts)\n",
    "words<-colnames(X1)\n",
    "\n",
    "covariance<-apply(X1,2,function(x) cor(x,repshare))\n",
    "\n",
    "                  \n",
    "\n",
    "wordcloud(words = words,\n",
    "          freq = covariance,\n",
    "          min.freq = 0,\n",
    "          scale = c(1.5, 0.1), \n",
    "          max.words=200, \n",
    "          random.order=FALSE, \n",
    "          colors=brewer.pal(8, \"YlOrRd\"))\n"
   ]
  },
  {
   "cell_type": "code",
   "execution_count": null,
   "id": "836fea72",
   "metadata": {},
   "outputs": [],
   "source": [
    "# lasso\n",
    "lassoslant <- cv.gamlr(X>0, repshare)  \n",
    "\n",
    "B <- coef(lassoslant$gamlr)[-1,] "
   ]
  },
  {
   "cell_type": "code",
   "execution_count": null,
   "id": "5d8c57e0",
   "metadata": {},
   "outputs": [],
   "source": [
    "tail(sort(round(B[B!=0],4)),10)"
   ]
  },
  {
   "cell_type": "code",
   "execution_count": null,
   "id": "65a01ef8",
   "metadata": {},
   "outputs": [],
   "source": [
    "head(sort(round(B[B!=0],4)),10)"
   ]
  },
  {
   "cell_type": "markdown",
   "id": "1f4ff707",
   "metadata": {},
   "source": [
    "## Modelado de temas subyacentes\n"
   ]
  },
  {
   "cell_type": "code",
   "execution_count": null,
   "id": "9ad05d22",
   "metadata": {},
   "outputs": [],
   "source": [
    "data(\"we8there\", package = \"textir\")"
   ]
  },
  {
   "cell_type": "markdown",
   "id": "92713b92",
   "metadata": {},
   "source": [
    "Waffle House #1258 in Bossier City, Louisiana:\n",
    "\n",
    "*I normally would not revue a Waffle House but this one deserves it. The workers, Amanda, Amy, Cherry, James and J.D. were the most pleasant crew I have seen. While it was only lunch, B.L.T. and chili, it was great. The best thing was the 50’s rock and roll music, not to loud not to soft. This is a rare exception to what you all think a Waffle House is. Keep up the good work.*\n",
    "\n",
    "*Overall: 5, Atmosphere: 5, Food: 5, Service: 5, Value: 5.*\n",
    "\n"
   ]
  },
  {
   "cell_type": "markdown",
   "id": "4803b572",
   "metadata": {},
   "source": [
    "Sartin’s Seafood in Nassau Bay, Texas,\n",
    "\n",
    "*Had a very rude waitress and the manager wasn’t nice either.*\n",
    "*Overall: 1, Atmosphere: 1, Food: 1, Service: 1, Value: 5.*"
   ]
  },
  {
   "cell_type": "code",
   "execution_count": null,
   "id": "d5f2bdca",
   "metadata": {
    "scrolled": true
   },
   "outputs": [],
   "source": [
    "x <- we8thereCounts\n",
    "x[1,x[1,]!=0]"
   ]
  },
  {
   "cell_type": "markdown",
   "id": "b86a2656",
   "metadata": {},
   "source": [
    "### PCA"
   ]
  },
  {
   "cell_type": "code",
   "execution_count": null,
   "id": "5572322f",
   "metadata": {},
   "outputs": [],
   "source": [
    "pca <- prcomp(x, scale=TRUE) # cuidado demora mucho"
   ]
  },
  {
   "cell_type": "code",
   "execution_count": null,
   "id": "d5df66a7",
   "metadata": {},
   "outputs": [],
   "source": [
    "tail(sort(pca$rotation[,1]))"
   ]
  },
  {
   "cell_type": "code",
   "execution_count": null,
   "id": "e3e9a91c",
   "metadata": {},
   "outputs": [],
   "source": [
    "tail(sort(pca$rotation[,4]))"
   ]
  },
  {
   "cell_type": "code",
   "execution_count": null,
   "id": "9d75c903",
   "metadata": {},
   "outputs": [],
   "source": [
    "v <- predict(pca)[,1:4]"
   ]
  },
  {
   "cell_type": "code",
   "execution_count": null,
   "id": "c6f1aaf7",
   "metadata": {},
   "outputs": [],
   "source": [
    "boxplot(v[,1] ~ we8thereRatings$Overall, xlab=\"overall rating\", ylab=\"PC1 score\")"
   ]
  },
  {
   "cell_type": "markdown",
   "id": "b1682a02",
   "metadata": {},
   "source": [
    "### LDA"
   ]
  },
  {
   "cell_type": "code",
   "execution_count": null,
   "id": "c2cf9839",
   "metadata": {},
   "outputs": [],
   "source": [
    "p_load(\"maptpx\") # para modelar topicos\n",
    "\n",
    "x <- as.simple_triplet_matrix(we8thereCounts)"
   ]
  },
  {
   "cell_type": "code",
   "execution_count": null,
   "id": "c34dc75b",
   "metadata": {},
   "outputs": [],
   "source": [
    "tpc <- topics(x,K=10) "
   ]
  },
  {
   "cell_type": "code",
   "execution_count": null,
   "id": "09545b33",
   "metadata": {},
   "outputs": [],
   "source": [
    "tpcs <- topics(x,K=5*(1:5), verb=1)"
   ]
  },
  {
   "cell_type": "code",
   "execution_count": null,
   "id": "966bb451",
   "metadata": {},
   "outputs": [],
   "source": [
    "summary(tpcs, n=10) "
   ]
  },
  {
   "cell_type": "code",
   "execution_count": null,
   "id": "9866b7f9",
   "metadata": {},
   "outputs": [],
   "source": [
    "rownames(tpcs$theta)[order(tpcs$theta[,1], decreasing=TRUE)[1:10]]\n"
   ]
  },
  {
   "cell_type": "code",
   "execution_count": null,
   "id": "a5f4f4a1",
   "metadata": {},
   "outputs": [],
   "source": [
    "rownames(tpcs$theta)[order(tpcs$theta[,2], decreasing=TRUE)[1:10]]"
   ]
  },
  {
   "cell_type": "code",
   "execution_count": null,
   "id": "7581e453",
   "metadata": {},
   "outputs": [],
   "source": [
    "boxplot(tpcs$omega[,1] ~ we8thereRatings$Overall, col=\"gold\", xlab=\"overall rating\", ylab=\"topic 1 score\")\n"
   ]
  },
  {
   "cell_type": "code",
   "execution_count": null,
   "id": "6ba2c285",
   "metadata": {},
   "outputs": [],
   "source": [
    "boxplot(tpcs$omega[,2] ~ we8thereRatings$Overall, col=\"pink\", xlab=\"overall rating\", ylab=\"topic 2 score\")"
   ]
  },
  {
   "cell_type": "code",
   "execution_count": null,
   "id": "868c2232",
   "metadata": {},
   "outputs": [],
   "source": [
    "stars <- we8thereRatings[,\"Overall\"]"
   ]
  },
  {
   "cell_type": "code",
   "execution_count": null,
   "id": "2b19f51d",
   "metadata": {},
   "outputs": [],
   "source": [
    "Xtopics<-as(tpcs$omega, \"dMatrix\")"
   ]
  },
  {
   "cell_type": "code",
   "execution_count": null,
   "id": "1a90c427",
   "metadata": {},
   "outputs": [],
   "source": [
    "p_load(\"gamlr\")\n",
    "regtopics.cv <- cv.gamlr(tpcs$omega, stars)"
   ]
  },
  {
   "cell_type": "code",
   "execution_count": null,
   "id": "5d73b26d",
   "metadata": {},
   "outputs": [],
   "source": [
    "regwords.cv <- cv.gamlr(we8thereCounts, stars)"
   ]
  },
  {
   "cell_type": "code",
   "execution_count": null,
   "id": "25577b5f",
   "metadata": {},
   "outputs": [],
   "source": [
    "par(mfrow=c(1,2), mai=c(.3,.6,.7,.1), omi=c(.5,.2,0,0))\n",
    "plot(regtopics.cv, ylim=c(1,2), xlab=\"\", ylab=\"\")\n",
    "mtext(\"topic regression\", font=2, line=2)\n",
    "plot(regwords.cv, ylim=c(1,2), xlab=\"\", ylab=\"\")\n",
    "mtext(\"token regression\", font=2, line=2)\n",
    "mtext(side=2, \"mean squared error\", outer=TRUE, line=0)\n",
    "mtext(side=1, \"log lamba\", outer=TRUE, line=1)"
   ]
  },
  {
   "cell_type": "code",
   "execution_count": null,
   "id": "a6966cb1",
   "metadata": {},
   "outputs": [],
   "source": []
  }
 ],
 "metadata": {
  "kernelspec": {
   "display_name": "R",
   "language": "R",
   "name": "ir"
  },
  "language_info": {
   "codemirror_mode": "r",
   "file_extension": ".r",
   "mimetype": "text/x-r-source",
   "name": "R",
   "pygments_lexer": "r",
   "version": "4.3.2"
  },
  "toc": {
   "base_numbering": 1,
   "nav_menu": {},
   "number_sections": true,
   "sideBar": true,
   "skip_h1_title": false,
   "title_cell": "Table of Contents",
   "title_sidebar": "Contents",
   "toc_cell": false,
   "toc_position": {},
   "toc_section_display": true,
   "toc_window_display": false
  }
 },
 "nbformat": 4,
 "nbformat_minor": 5
}
