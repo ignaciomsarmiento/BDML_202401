{
 "cells": [
  {
   "cell_type": "markdown",
   "id": "d3b7c0aa",
   "metadata": {},
   "source": [
    "<div >\n",
    "<img src = \"../banner.jpg\" />\n",
    "</div>"
   ]
  },
  {
   "cell_type": "markdown",
   "id": "80f60211",
   "metadata": {},
   "source": [
    "<a target=\"_blank\" href=\"https://colab.research.google.com/github/ignaciomsarmiento/BDML_202401/blob/main/Modulo07/Modulo07_PCA_Text_as_Data.ipynb\">\n",
    "  <img src=\"https://colab.research.google.com/assets/colab-badge.svg\" alt=\"Open In Colab\"/>\n",
    "</a>\n"
   ]
  },
  {
   "cell_type": "markdown",
   "id": "ff638f19",
   "metadata": {},
   "source": [
    "# Ejemplos Principal Component Analysis"
   ]
  },
  {
   "cell_type": "markdown",
   "id": "66131370",
   "metadata": {},
   "source": [
    "## Test Scores"
   ]
  },
  {
   "cell_type": "code",
   "execution_count": null,
   "id": "04811a19",
   "metadata": {},
   "outputs": [],
   "source": [
    "require(\"pacman\")\n",
    "p_load(\"tidyverse\")"
   ]
  },
  {
   "cell_type": "code",
   "execution_count": null,
   "id": "bb0d220a",
   "metadata": {},
   "outputs": [],
   "source": [
    "dta<-read.csv(\"https://github.com/ignaciomsarmiento/datasets/raw/main/estudiantes.csv\")\n",
    "dta"
   ]
  },
  {
   "cell_type": "code",
   "execution_count": null,
   "id": "a0002b7b",
   "metadata": {},
   "outputs": [],
   "source": [
    "rownames(dta)<-dta$Estudiante\n",
    "dta<-dta[,-1]\n",
    "dta"
   ]
  },
  {
   "cell_type": "code",
   "execution_count": null,
   "id": "92e58ce3",
   "metadata": {},
   "outputs": [],
   "source": [
    "res_pca <- prcomp(dta)\n",
    "res_pca"
   ]
  },
  {
   "cell_type": "code",
   "execution_count": null,
   "id": "3201135c",
   "metadata": {},
   "outputs": [],
   "source": [
    "p_load(\"factoextra\")\n",
    "eig_val <- get_eigenvalue(res_pca)\n",
    "eig_val"
   ]
  },
  {
   "cell_type": "code",
   "execution_count": null,
   "id": "8b1c8320",
   "metadata": {},
   "outputs": [],
   "source": [
    "fviz_eig(res_pca, addlabels = TRUE, ylim = c(0, 70))"
   ]
  },
  {
   "cell_type": "code",
   "execution_count": null,
   "id": "f85fbecc",
   "metadata": {},
   "outputs": [],
   "source": [
    "ggplot(eig_val,aes(x=1:5,y=cumulative.variance.percent)) +\n",
    "    geom_point()+\n",
    "    geom_line() +\n",
    "    theme_bw()"
   ]
  },
  {
   "cell_type": "code",
   "execution_count": null,
   "id": "bce0270e",
   "metadata": {},
   "outputs": [],
   "source": [
    "fviz_pca_biplot(res_pca, \n",
    "                repel = TRUE,# Avoid text overlapping\n",
    "                col.var = \"#2E9FDF\", # Variables color\n",
    "                col.ind = \"#696969\"  # Individuals color\n",
    "                )"
   ]
  },
  {
   "cell_type": "markdown",
   "id": "d24a228b",
   "metadata": {},
   "source": [
    "##  Votos en el congreso"
   ]
  },
  {
   "cell_type": "code",
   "execution_count": null,
   "id": "df0c35b4",
   "metadata": {},
   "outputs": [],
   "source": [
    "votes <- read.csv(\"https://github.com/ignaciomsarmiento/datasets/raw/main/rollcall-votes.csv\")\n",
    "head(votes)"
   ]
  },
  {
   "cell_type": "code",
   "execution_count": null,
   "id": "6edd83f3",
   "metadata": {},
   "outputs": [],
   "source": [
    "legis <- read.csv(\"https://github.com/ignaciomsarmiento/datasets/raw/main/rollcall-members.csv\")\n",
    "head(legis)"
   ]
  },
  {
   "cell_type": "code",
   "execution_count": null,
   "id": "17646ef0",
   "metadata": {},
   "outputs": [],
   "source": [
    "pcavote <- prcomp(votes, scale=TRUE)\n",
    "\n",
    "fviz_eig(pcavote, addlabels = TRUE, ylim = c(0, 40))"
   ]
  },
  {
   "cell_type": "code",
   "execution_count": null,
   "id": "c91d76e8",
   "metadata": {},
   "outputs": [],
   "source": [
    "fviz_pca_biplot(pcavote)"
   ]
  },
  {
   "cell_type": "code",
   "execution_count": null,
   "id": "b42db49d",
   "metadata": {},
   "outputs": [],
   "source": [
    "fviz_pca_biplot(pcavote, \n",
    "                col.ind = legis$party,\n",
    "                palette = c(\"blue\", \"green\", \"red\"),\n",
    "                invisible =\"var\",\n",
    "                repel=TRUE,\n",
    "                labelsize = 2\n",
    "                )"
   ]
  },
  {
   "cell_type": "code",
   "execution_count": null,
   "id": "116e5b89",
   "metadata": {},
   "outputs": [],
   "source": [
    "votepc <- predict(pcavote) #\n",
    "votepc[order(votepc[,1])[1:5],1]"
   ]
  },
  {
   "cell_type": "code",
   "execution_count": null,
   "id": "fa57f255",
   "metadata": {},
   "outputs": [],
   "source": [
    "votepc[order(-votepc[,1])[1:5],1]"
   ]
  },
  {
   "cell_type": "code",
   "execution_count": null,
   "id": "1083f60e",
   "metadata": {},
   "outputs": [],
   "source": [
    "votepc[order(votepc[,2])[1:5],2]"
   ]
  },
  {
   "cell_type": "code",
   "execution_count": null,
   "id": "a8b8b20c",
   "metadata": {},
   "outputs": [],
   "source": [
    "votepc[order(-votepc[,2])[1:5],2]"
   ]
  },
  {
   "cell_type": "code",
   "execution_count": null,
   "id": "6698c6a2",
   "metadata": {},
   "outputs": [],
   "source": [
    "loadings <- pcavote$rotation[,1:2]"
   ]
  },
  {
   "cell_type": "code",
   "execution_count": null,
   "id": "9dd3ed3d",
   "metadata": {
    "scrolled": true
   },
   "outputs": [],
   "source": [
    "hist(loadings[,1], main=\"\", xlab=\"1st Principle Component Vote-Loadings\",\n",
    "     col=8, border=grey(.9))\n",
    "abline(v=loadings[884,1], col=2)\n",
    "text(x=loadings[884,1], y=550, \"Afford. Health (amdt.)\", xpd=TRUE, col=2, font=3)\n",
    "abline(v=loadings[25,1], col=4)\n",
    "text(x=loadings[25,1], y=550, \"TARP\", xpd=TRUE, col=4, font=3)"
   ]
  },
  {
   "cell_type": "code",
   "execution_count": null,
   "id": "884dab67",
   "metadata": {},
   "outputs": [],
   "source": [
    "loadings[order(abs(loadings[,2]), decreasing=TRUE)[1:5],2]"
   ]
  },
  {
   "cell_type": "code",
   "execution_count": null,
   "id": "4a8ccf3c",
   "metadata": {},
   "outputs": [],
   "source": [
    "sort(rowSums(votes==0), decreasing=TRUE)[1:5]"
   ]
  },
  {
   "cell_type": "markdown",
   "id": "8192997d",
   "metadata": {},
   "source": [
    "# Principal Component Regression"
   ]
  },
  {
   "cell_type": "code",
   "execution_count": null,
   "id": "666772ea",
   "metadata": {},
   "outputs": [],
   "source": [
    "shows <- read.csv(\"https://github.com/ignaciomsarmiento/datasets/raw/main/nbc_showdetails.csv\", row.names=1)\n",
    "shows$Genre <- factor(shows$Genre)\n",
    "head(shows)"
   ]
  },
  {
   "cell_type": "code",
   "execution_count": null,
   "id": "a7074e79",
   "metadata": {},
   "outputs": [],
   "source": [
    "plot(GRP ~ PE, data=shows, bg=c(4,2,3)[shows$Genre], pch=21, log=\"y\")\n",
    "legend(\"bottomright\", legend=levels(shows$Genre), fill=c(4,2,3), bty=\"n\")"
   ]
  },
  {
   "cell_type": "code",
   "execution_count": null,
   "id": "fd07aa06",
   "metadata": {},
   "outputs": [],
   "source": [
    "survey <- read.csv(\"https://github.com/ignaciomsarmiento/datasets/raw/main/nbc_pilotsurvey.csv\", as.is=TRUE) \n",
    "survey$Show <- factor(survey$Show, levels=rownames(shows))\n",
    "head(survey)"
   ]
  },
  {
   "cell_type": "code",
   "execution_count": null,
   "id": "feb98dcc",
   "metadata": {},
   "outputs": [],
   "source": [
    "Xpilot <- aggregate(survey[,-(1:2)],  ## -(1:2) to remove the variables 'show' and 'viewer' completely\n",
    "                by=list(Show=survey$Show), mean)\n",
    "\n",
    "\n",
    "rownames(Xpilot) <- Xpilot[,1]\n",
    "Xpilot <- Xpilot[,-1]\n",
    "head(Xpilot)"
   ]
  },
  {
   "cell_type": "code",
   "execution_count": null,
   "id": "9fb9b413",
   "metadata": {},
   "outputs": [],
   "source": [
    "PCApilot <- prcomp(Xpilot, scale=TRUE)\n",
    "\n",
    "fviz_eig(PCApilot, addlabels = TRUE, ylim = c(0, 45))"
   ]
  },
  {
   "cell_type": "code",
   "execution_count": null,
   "id": "5cb04573",
   "metadata": {},
   "outputs": [],
   "source": [
    "round(PCApilot$rotation[,1:3],1)"
   ]
  },
  {
   "cell_type": "code",
   "execution_count": null,
   "id": "21d9d500",
   "metadata": {},
   "outputs": [],
   "source": [
    "fviz_pca_biplot(PCApilot, \n",
    "                col.ind = shows$Genre,\n",
    "                palette = c(\"blue\", \"green\", \"red\"),\n",
    "                ylim=c(-3,3),\n",
    "                xlim=c(-6,6), # hides \"monarch cove\",living with ed\", and \"next\" but these are all tiny \n",
    "                invisible =\"var\",\n",
    "                repel=TRUE,\n",
    "                labelsize = 2\n",
    "                )"
   ]
  },
  {
   "cell_type": "code",
   "execution_count": null,
   "id": "6bb9190e",
   "metadata": {},
   "outputs": [],
   "source": [
    "p_load(\"gamlr\")"
   ]
  },
  {
   "cell_type": "code",
   "execution_count": null,
   "id": "8906a770",
   "metadata": {},
   "outputs": [],
   "source": [
    "zpilot <- predict(PCApilot)\n",
    "\n",
    "PE <- shows$PE\n",
    "zdf <- as.data.frame(zpilot)\n",
    "\n",
    "summary(PEglm <- glm(PE ~ ., data=zdf[,1:2]))"
   ]
  },
  {
   "cell_type": "code",
   "execution_count": null,
   "id": "a73cb0d3",
   "metadata": {},
   "outputs": [],
   "source": [
    "cvlasso <- cv.gamlr(x=as.matrix(Xpilot), y=PE, nfold=10)\n",
    "coef(cvlasso) "
   ]
  },
  {
   "cell_type": "code",
   "execution_count": null,
   "id": "c6d1a3d5",
   "metadata": {},
   "outputs": [],
   "source": [
    "cvlassoPCR <- cv.gamlr(x=zpilot, y=PE, nfold=10) \n",
    "coef(cvlassoPCR) "
   ]
  },
  {
   "cell_type": "code",
   "execution_count": null,
   "id": "e52d51c4",
   "metadata": {},
   "outputs": [],
   "source": [
    "cvlassoboth <- cv.gamlr(x=as.matrix(cbind(Xpilot,zpilot)), y=PE, nfold=10)\n",
    "coef(cvlassoboth)"
   ]
  },
  {
   "cell_type": "code",
   "execution_count": null,
   "id": "38f8cfb4",
   "metadata": {},
   "outputs": [],
   "source": [
    "par(mfrow=c(1,3), mai=c(.2,.2,.5,.1), omi=c(.5,.5,0,0))\n",
    "plot(cvlasso, main=\"Lasso on X\", ylim=c(50,200), ylab=\"\", xlab=\"\", df=FALSE, bty=\"n\")\n",
    "plot(cvlassoPCR, main=\"Lasso on PCR\", ylim=c(50,200), ylab=\"\", xlab=\"\", df=FALSE, bty=\"n\")\n",
    "plot(cvlassoboth, main=\"Lasso on X and PCR\", ylim=c(50,200), ylab=\"\", xlab=\"\", df=FALSE, bty=\"n\")\n",
    "mtext(side=2, \"mean squared error\", outer=TRUE, line=2)\n",
    "mtext(side=1, \"log lamba\", outer=TRUE, line=2)"
   ]
  },
  {
   "cell_type": "markdown",
   "id": "dc30206a",
   "metadata": {},
   "source": [
    "# Texto como Datos: Ejemplos\n",
    "\n",
    "## Regresión con Texto: Gentzkow and Shapiro"
   ]
  },
  {
   "cell_type": "markdown",
   "id": "16e0ba67",
   "metadata": {},
   "source": [
    "<div >\n",
    "<img src = \"figures/gentzgow_shapiro.png\" />\n",
    "</div>"
   ]
  },
  {
   "cell_type": "code",
   "execution_count": null,
   "id": "73f77bab",
   "metadata": {},
   "outputs": [],
   "source": [
    "require(\"pacman\")\n",
    "p_load(\"tidyverse\",\"textir\")"
   ]
  },
  {
   "cell_type": "code",
   "execution_count": null,
   "id": "cc54ff13",
   "metadata": {},
   "outputs": [],
   "source": [
    "data(\"congress109\", package = \"textir\")"
   ]
  },
  {
   "cell_type": "code",
   "execution_count": null,
   "id": "6c88345d",
   "metadata": {},
   "outputs": [],
   "source": [
    "congress109Counts[c(\"Barack Obama\",\"John Boehner\"),995:998]"
   ]
  },
  {
   "cell_type": "code",
   "execution_count": null,
   "id": "a06cc21d",
   "metadata": {},
   "outputs": [],
   "source": [
    "congress109Ideology[c(\"Barack Obama\",\"John Boehner\"),1:5]"
   ]
  },
  {
   "cell_type": "markdown",
   "id": "2f381c1e",
   "metadata": {},
   "source": [
    "### Regresión \n",
    "\n",
    "$$\n",
    "RepShare= X\\beta  + u\n",
    "$$"
   ]
  },
  {
   "cell_type": "code",
   "execution_count": null,
   "id": "35b7f73b",
   "metadata": {},
   "outputs": [],
   "source": [
    "dim(congress109Counts)"
   ]
  },
  {
   "cell_type": "code",
   "execution_count": null,
   "id": "8e8d0aa2",
   "metadata": {},
   "outputs": [],
   "source": [
    "X <- as(congress109Counts, \"dMatrix\")\n",
    "repshare <- congress109Ideology$repshare"
   ]
  },
  {
   "cell_type": "code",
   "execution_count": null,
   "id": "512d521c",
   "metadata": {},
   "outputs": [],
   "source": [
    "\n",
    "X1 <- as.matrix(congress109Counts)\n",
    "words<-colnames(X1)\n",
    "\n",
    "covariance<-apply(X1,2,function(x) cor(x,repshare))\n",
    "\n",
    "                  \n",
    "\n",
    "wordcloud(words = words,\n",
    "          freq = covariance,\n",
    "          min.freq = 0,\n",
    "          scale = c(1.5, 0.1), \n",
    "          max.words=200, \n",
    "          random.order=FALSE, \n",
    "          colors=brewer.pal(8, \"YlOrRd\"))\n"
   ]
  },
  {
   "cell_type": "code",
   "execution_count": null,
   "id": "836fea72",
   "metadata": {},
   "outputs": [],
   "source": [
    "# lasso\n",
    "lassoslant <- cv.gamlr(X>0, repshare)  \n",
    "\n",
    "B <- coef(lassoslant$gamlr)[-1,] "
   ]
  },
  {
   "cell_type": "code",
   "execution_count": null,
   "id": "5d8c57e0",
   "metadata": {},
   "outputs": [],
   "source": [
    "tail(sort(round(B[B!=0],4)),10)"
   ]
  },
  {
   "cell_type": "code",
   "execution_count": null,
   "id": "65a01ef8",
   "metadata": {},
   "outputs": [],
   "source": [
    "head(sort(round(B[B!=0],4)),10)"
   ]
  },
  {
   "cell_type": "markdown",
   "id": "1f4ff707",
   "metadata": {},
   "source": [
    "## Modelado de temas subyacentes\n"
   ]
  },
  {
   "cell_type": "code",
   "execution_count": null,
   "id": "9ad05d22",
   "metadata": {},
   "outputs": [],
   "source": [
    "data(\"we8there\", package = \"textir\")"
   ]
  },
  {
   "cell_type": "markdown",
   "id": "92713b92",
   "metadata": {},
   "source": [
    "Waffle House #1258 in Bossier City, Louisiana:\n",
    "\n",
    "*I normally would not revue a Waffle House but this one deserves it. The workers, Amanda, Amy, Cherry, James and J.D. were the most pleasant crew I have seen. While it was only lunch, B.L.T. and chili, it was great. The best thing was the 50’s rock and roll music, not to loud not to soft. This is a rare exception to what you all think a Waffle House is. Keep up the good work.*\n",
    "\n",
    "*Overall: 5, Atmosphere: 5, Food: 5, Service: 5, Value: 5.*\n",
    "\n"
   ]
  },
  {
   "cell_type": "markdown",
   "id": "4803b572",
   "metadata": {},
   "source": [
    "Sartin’s Seafood in Nassau Bay, Texas,\n",
    "\n",
    "*Had a very rude waitress and the manager wasn’t nice either.*\n",
    "*Overall: 1, Atmosphere: 1, Food: 1, Service: 1, Value: 5.*"
   ]
  },
  {
   "cell_type": "code",
   "execution_count": null,
   "id": "d5f2bdca",
   "metadata": {
    "scrolled": true
   },
   "outputs": [],
   "source": [
    "x <- we8thereCounts\n",
    "x[1,x[1,]!=0]"
   ]
  },
  {
   "cell_type": "markdown",
   "id": "b86a2656",
   "metadata": {},
   "source": [
    "### PCA"
   ]
  },
  {
   "cell_type": "code",
   "execution_count": null,
   "id": "5572322f",
   "metadata": {},
   "outputs": [],
   "source": [
    "pca <- prcomp(x, scale=TRUE) # cuidado demora mucho"
   ]
  },
  {
   "cell_type": "code",
   "execution_count": null,
   "id": "d5df66a7",
   "metadata": {},
   "outputs": [],
   "source": [
    "tail(sort(pca$rotation[,1]))"
   ]
  },
  {
   "cell_type": "code",
   "execution_count": null,
   "id": "e3e9a91c",
   "metadata": {},
   "outputs": [],
   "source": [
    "tail(sort(pca$rotation[,4]))"
   ]
  },
  {
   "cell_type": "code",
   "execution_count": null,
   "id": "9d75c903",
   "metadata": {},
   "outputs": [],
   "source": [
    "v <- predict(pca)[,1:4]"
   ]
  },
  {
   "cell_type": "code",
   "execution_count": null,
   "id": "c6f1aaf7",
   "metadata": {},
   "outputs": [],
   "source": [
    "boxplot(v[,1] ~ we8thereRatings$Overall, xlab=\"overall rating\", ylab=\"PC1 score\")"
   ]
  },
  {
   "cell_type": "markdown",
   "id": "b1682a02",
   "metadata": {},
   "source": [
    "### LDA"
   ]
  },
  {
   "cell_type": "code",
   "execution_count": null,
   "id": "c2cf9839",
   "metadata": {},
   "outputs": [],
   "source": [
    "p_load(\"maptpx\") # para modelar topicos\n",
    "\n",
    "x <- as.simple_triplet_matrix(we8thereCounts)"
   ]
  },
  {
   "cell_type": "code",
   "execution_count": null,
   "id": "c34dc75b",
   "metadata": {},
   "outputs": [],
   "source": [
    "tpc <- topics(x,K=10) "
   ]
  },
  {
   "cell_type": "code",
   "execution_count": null,
   "id": "09545b33",
   "metadata": {},
   "outputs": [],
   "source": [
    "tpcs <- topics(x,K=5*(1:5), verb=1)"
   ]
  },
  {
   "cell_type": "code",
   "execution_count": null,
   "id": "966bb451",
   "metadata": {},
   "outputs": [],
   "source": [
    "summary(tpcs, n=10) "
   ]
  },
  {
   "cell_type": "code",
   "execution_count": null,
   "id": "9866b7f9",
   "metadata": {},
   "outputs": [],
   "source": [
    "rownames(tpcs$theta)[order(tpcs$theta[,1], decreasing=TRUE)[1:10]]\n"
   ]
  },
  {
   "cell_type": "code",
   "execution_count": null,
   "id": "a5f4f4a1",
   "metadata": {},
   "outputs": [],
   "source": [
    "rownames(tpcs$theta)[order(tpcs$theta[,2], decreasing=TRUE)[1:10]]"
   ]
  },
  {
   "cell_type": "code",
   "execution_count": null,
   "id": "7581e453",
   "metadata": {},
   "outputs": [],
   "source": [
    "boxplot(tpcs$omega[,1] ~ we8thereRatings$Overall, col=\"gold\", xlab=\"overall rating\", ylab=\"topic 1 score\")\n"
   ]
  },
  {
   "cell_type": "code",
   "execution_count": null,
   "id": "6ba2c285",
   "metadata": {},
   "outputs": [],
   "source": [
    "boxplot(tpcs$omega[,2] ~ we8thereRatings$Overall, col=\"pink\", xlab=\"overall rating\", ylab=\"topic 2 score\")"
   ]
  },
  {
   "cell_type": "code",
   "execution_count": null,
   "id": "868c2232",
   "metadata": {},
   "outputs": [],
   "source": [
    "stars <- we8thereRatings[,\"Overall\"]"
   ]
  },
  {
   "cell_type": "code",
   "execution_count": null,
   "id": "2b19f51d",
   "metadata": {},
   "outputs": [],
   "source": [
    "Xtopics<-as(tpcs$omega, \"dMatrix\")"
   ]
  },
  {
   "cell_type": "code",
   "execution_count": null,
   "id": "1a90c427",
   "metadata": {},
   "outputs": [],
   "source": [
    "p_load(\"gamlr\")\n",
    "regtopics.cv <- cv.gamlr(tpcs$omega, stars)"
   ]
  },
  {
   "cell_type": "code",
   "execution_count": null,
   "id": "5d73b26d",
   "metadata": {},
   "outputs": [],
   "source": [
    "regwords.cv <- cv.gamlr(we8thereCounts, stars)"
   ]
  },
  {
   "cell_type": "code",
   "execution_count": null,
   "id": "25577b5f",
   "metadata": {},
   "outputs": [],
   "source": [
    "par(mfrow=c(1,2), mai=c(.3,.6,.7,.1), omi=c(.5,.2,0,0))\n",
    "plot(regtopics.cv, ylim=c(1,2), xlab=\"\", ylab=\"\")\n",
    "mtext(\"topic regression\", font=2, line=2)\n",
    "plot(regwords.cv, ylim=c(1,2), xlab=\"\", ylab=\"\")\n",
    "mtext(\"token regression\", font=2, line=2)\n",
    "mtext(side=2, \"mean squared error\", outer=TRUE, line=0)\n",
    "mtext(side=1, \"log lamba\", outer=TRUE, line=1)"
   ]
  },
  {
   "cell_type": "code",
   "execution_count": null,
   "id": "a6966cb1",
   "metadata": {},
   "outputs": [],
   "source": []
  }
 ],
 "metadata": {
  "kernelspec": {
   "display_name": "R",
   "language": "R",
   "name": "ir"
  },
  "language_info": {
   "codemirror_mode": "r",
   "file_extension": ".r",
   "mimetype": "text/x-r-source",
   "name": "R",
   "pygments_lexer": "r",
   "version": "4.3.2"
  },
  "toc": {
   "base_numbering": 1,
   "nav_menu": {},
   "number_sections": true,
   "sideBar": true,
   "skip_h1_title": false,
   "title_cell": "Table of Contents",
   "title_sidebar": "Contents",
   "toc_cell": false,
   "toc_position": {},
   "toc_section_display": true,
   "toc_window_display": false
  }
 },
 "nbformat": 4,
 "nbformat_minor": 5
}
